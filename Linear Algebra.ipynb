{
 "cells": [
  {
   "cell_type": "code",
   "execution_count": 1,
   "id": "af9514ce",
   "metadata": {},
   "outputs": [],
   "source": [
    "import numpy as np\n",
    "import matplotlib.pyplot as plt"
   ]
  },
  {
   "cell_type": "markdown",
   "id": "b5d19e0b",
   "metadata": {},
   "source": [
    "### Scalar"
   ]
  },
  {
   "cell_type": "code",
   "execution_count": 2,
   "id": "232a6b3d",
   "metadata": {},
   "outputs": [],
   "source": [
    "x = 5   # scalar"
   ]
  },
  {
   "cell_type": "markdown",
   "id": "12a6fbf5",
   "metadata": {},
   "source": [
    "### Vector"
   ]
  },
  {
   "cell_type": "code",
   "execution_count": 3,
   "id": "b22f8b58",
   "metadata": {},
   "outputs": [
    {
     "name": "stdout",
     "output_type": "stream",
     "text": [
      "[4 5 6]\n",
      "(3,)\n",
      "[[4]\n",
      " [5]\n",
      " [6]]\n",
      "(3, 1)\n"
     ]
    }
   ],
   "source": [
    "# create an array or vector using numpy\n",
    "x = np.array([4,5,6])\n",
    "print(x)\n",
    "print(x.shape)\n",
    "\n",
    "# to create the shape of column vector\n",
    "x = np.array([[4],[5],[6]])\n",
    "print(x)\n",
    "print(x.shape)"
   ]
  },
  {
   "cell_type": "markdown",
   "id": "c71f489a",
   "metadata": {},
   "source": [
    "### Matrix"
   ]
  },
  {
   "cell_type": "code",
   "execution_count": 4,
   "id": "255ef4fc",
   "metadata": {},
   "outputs": [
    {
     "name": "stdout",
     "output_type": "stream",
     "text": [
      "[[ 4  5  7 10]\n",
      " [10 11 13 11]\n",
      " [56 80 90 12]]\n",
      "(3, 4)\n",
      "(2, 6)\n",
      "[[ 4  5  7 10 10 11]\n",
      " [13 11 56 80 90 12]]\n"
     ]
    }
   ],
   "source": [
    "X = np.array([[4,5,7,10],[10,11,13,11],[56,80,90,12]])\n",
    "print(X)\n",
    "print(X.shape)\n",
    "\n",
    "X = X.reshape((2,6))\n",
    "print(X.shape)\n",
    "print(X)"
   ]
  },
  {
   "cell_type": "markdown",
   "id": "3031b56a",
   "metadata": {},
   "source": [
    "### Tensor"
   ]
  },
  {
   "cell_type": "code",
   "execution_count": 5,
   "id": "81394772",
   "metadata": {},
   "outputs": [
    {
     "name": "stdout",
     "output_type": "stream",
     "text": [
      "[[[  0   0 255]\n",
      "  [  0   0 255]\n",
      "  [  0   0 255]\n",
      "  [  0   0 255]\n",
      "  [  0   0 255]]\n",
      "\n",
      " [[  0   0 255]\n",
      "  [  0   0 255]\n",
      "  [  0   0 255]\n",
      "  [  0   0 255]\n",
      "  [  0   0 255]]\n",
      "\n",
      " [[  0   0 255]\n",
      "  [  0   0 255]\n",
      "  [  0   0 255]\n",
      "  [  0   0 255]\n",
      "  [  0   0 255]]\n",
      "\n",
      " [[  0   0 255]\n",
      "  [  0   0 255]\n",
      "  [  0   0 255]\n",
      "  [  0   0 255]\n",
      "  [  0   0 255]]\n",
      "\n",
      " [[  0   0 255]\n",
      "  [  0   0 255]\n",
      "  [  0   0 255]\n",
      "  [  0   0 255]\n",
      "  [  0   0 255]]]\n"
     ]
    },
    {
     "data": {
      "image/png": "[encoded data removed]",
      "text/plain": [
       "<Figure size 432x288 with 1 Axes>"
      ]
     },
     "metadata": {
      "needs_background": "light"
     },
     "output_type": "display_data"
    }
   ],
   "source": [
    "# to create a tensor (numpy array with more than 2 axes)\n",
    "T = np.zeros((5,5,3),dtype='uint8') # uint8 means unsigned int 8 (each integer will take 8 bits)\n",
    "# T[:,:,0] = 255   # red\n",
    "# T[:,:,1] = 255   # green\n",
    "T[:,:,2] = 255   # blue\n",
    "print(T)\n",
    "# for images when we want to put data in array, we can either put it as a float between 0 - 1\n",
    "# or as an integer between 0 to 255\n",
    "\n",
    "# to plot the tensor as an image, \n",
    "# this data can represent an image in which all pixel values are 0 for all the channels\n",
    "plt.imshow(T)\n",
    "plt.show()\n",
    "# plt.imshow(T) displays an image which is a black image with 5 rows and 5 columns\n",
    "# when we display an image using plot.imshow(), we only see the 2D version\n",
    "# this is because the values are combined to form a colour"
   ]
  },
  {
   "cell_type": "code",
   "execution_count": 6,
   "id": "35b32bee",
   "metadata": {},
   "outputs": [
    {
     "name": "stdout",
     "output_type": "stream",
     "text": [
      "(12, 1)\n",
      "[[ 4]\n",
      " [ 5]\n",
      " [ 7]\n",
      " [10]\n",
      " [10]\n",
      " [11]\n",
      " [13]\n",
      " [11]\n",
      " [56]\n",
      " [80]\n",
      " [90]\n",
      " [12]]\n"
     ]
    }
   ],
   "source": [
    "X = X.reshape((-1,1))\n",
    "print(X.shape)\n",
    "print(X)"
   ]
  },
  {
   "cell_type": "code",
   "execution_count": 7,
   "id": "5631ef93",
   "metadata": {},
   "outputs": [
    {
     "name": "stdout",
     "output_type": "stream",
     "text": [
      "[[ 4  5  7 10 10 11 13 11 56 80 90 12]]\n"
     ]
    }
   ],
   "source": [
    "# to take the transpose of X\n",
    "X1 = X.T\n",
    "print(X1)"
   ]
  },
  {
   "cell_type": "code",
   "execution_count": 8,
   "id": "c65af48a",
   "metadata": {},
   "outputs": [
    {
     "name": "stdout",
     "output_type": "stream",
     "text": [
      "[[ 4  5  7 10]\n",
      " [10 11 13 11]\n",
      " [56 80 90 12]]\n",
      "[[ 4 10 56]\n",
      " [ 5 11 80]\n",
      " [ 7 13 90]\n",
      " [10 11 12]]\n"
     ]
    }
   ],
   "source": [
    "# transpose of a matrix\n",
    "X = X.reshape((3,4))\n",
    "print(X)\n",
    "print(X.T)"
   ]
  },
  {
   "cell_type": "code",
   "execution_count": 19,
   "id": "e41a582c",
   "metadata": {},
   "outputs": [
    {
     "name": "stdout",
     "output_type": "stream",
     "text": [
      "(50, 25, 3)\n"
     ]
    },
    {
     "data": {
      "image/png": "[encoded data removed]",
      "text/plain": [
       "<Figure size 432x288 with 1 Axes>"
      ]
     },
     "metadata": {
      "needs_background": "light"
     },
     "output_type": "display_data"
    },
    {
     "name": "stdout",
     "output_type": "stream",
     "text": [
      "(3, 25, 50)\n",
      "(3, 25, 50)\n",
      "(50, 3, 25)\n"
     ]
    }
   ],
   "source": [
    "P = np.zeros((50,25,3),dtype='uint8')\n",
    "P[:,:,0] = 255\n",
    "print(P.shape)\n",
    "plt.imshow(P)\n",
    "plt.show()\n",
    "\n",
    "# transpose of a tensor\n",
    "P1 = P.T\n",
    "print(P1.shape)\n",
    "# or\n",
    "P2 = np.transpose(P)\n",
    "print(P2.shape)\n",
    "# when we take a transpose, order of axis is reversed by default\n",
    "\n",
    "# if we want to change the order of axes in the transpose\n",
    "P3 = np.transpose(P, axes = (0,2,1))\n",
    "print(P3.shape)"
   ]
  },
  {
   "cell_type": "markdown",
   "id": "e9572704",
   "metadata": {},
   "source": [
    "### Broadcasting"
   ]
  },
  {
   "cell_type": "code",
   "execution_count": 20,
   "id": "5af0fe4b",
   "metadata": {},
   "outputs": [
    {
     "name": "stdout",
     "output_type": "stream",
     "text": [
      "[1 2 3 4]\n",
      "[5 6 7 8]\n"
     ]
    }
   ],
   "source": [
    "# it is a feauture of numpy that allows us to add a scalar to a vector i.e. \n",
    "# that scalar will be added to every element of that particular vector\n",
    "# it does not work with python lists, works only in case of numpy arrays\n",
    "x = np.array([1,2,3,4])\n",
    "print(x)\n",
    "print(x+4)"
   ]
  },
  {
   "cell_type": "code",
   "execution_count": 22,
   "id": "84e1236f",
   "metadata": {},
   "outputs": [
    {
     "name": "stdout",
     "output_type": "stream",
     "text": [
      "[[10 20 30 40]\n",
      " [50 60 70 80]]\n",
      "[[11 22 33 44]\n",
      " [51 62 73 84]]\n"
     ]
    }
   ],
   "source": [
    "# similarly we can add a vector to a matrix and \n",
    "# numpy will add the vector to each column of that matrix\n",
    "X = np.array([[10,20,30,40],[50,60,70,80]])\n",
    "print(X)\n",
    "print(X+x)"
   ]
  },
  {
   "cell_type": "markdown",
   "id": "c1e49872",
   "metadata": {},
   "source": [
    "### Matrix Multiplication / Dot Product"
   ]
  },
  {
   "cell_type": "code",
   "execution_count": 25,
   "id": "8a4ad483",
   "metadata": {},
   "outputs": [
    {
     "name": "stdout",
     "output_type": "stream",
     "text": [
      "[[ 6  6]\n",
      " [12 14]]\n"
     ]
    }
   ],
   "source": [
    "# complexity is O(n3)\n",
    "# it can be thought of as linear combination of columns of A weighted by column entries of B\n",
    "A = np.array([[1,2],[3,4]])\n",
    "B = np.array([[0,2],[3,2]])\n",
    "C = np.dot(A,B)\n",
    "print(C)"
   ]
  },
  {
   "cell_type": "markdown",
   "id": "77a53e54",
   "metadata": {},
   "source": [
    "### Element Wise Multiplication : Hadamard Product"
   ]
  },
  {
   "cell_type": "code",
   "execution_count": 23,
   "id": "1464d812",
   "metadata": {},
   "outputs": [
    {
     "data": {
      "text/plain": [
       "array([[0, 4],\n",
       "       [9, 8]])"
      ]
     },
     "execution_count": 23,
     "metadata": {},
     "output_type": "execute_result"
    }
   ],
   "source": [
    "# we use * operator to do this type of multiplication\n",
    "# matrices should have the same shape\n",
    "A = np.array([[1,2],[3,4]])\n",
    "B = np.array([[0,2],[3,2]])\n",
    "A*B"
   ]
  },
  {
   "cell_type": "markdown",
   "id": "b36c6f6e",
   "metadata": {},
   "source": [
    "### Norm"
   ]
  },
  {
   "cell_type": "code",
   "execution_count": 29,
   "id": "456d7bca",
   "metadata": {},
   "outputs": [
    {
     "name": "stdout",
     "output_type": "stream",
     "text": [
      "5.0\n",
      "7.0\n",
      "4.0\n"
     ]
    }
   ],
   "source": [
    "# by default we get the L2 norm\n",
    "x = np.array([-3,4])\n",
    "l2 = np.linalg.norm(x)\n",
    "print(l2)\n",
    "\n",
    "# to compute L1 norm\n",
    "l1 = np.linalg.norm(x,ord=1)\n",
    "print(l1)\n",
    "\n",
    "# to compute infinity norm\n",
    "linf = np.linalg.norm(x,ord=np.inf)\n",
    "print(linf)"
   ]
  },
  {
   "cell_type": "markdown",
   "id": "6684ce43",
   "metadata": {},
   "source": [
    "### Determinants"
   ]
  },
  {
   "cell_type": "code",
   "execution_count": 30,
   "id": "28808006",
   "metadata": {},
   "outputs": [
    {
     "data": {
      "text/plain": [
       "-2.0000000000000004"
      ]
     },
     "execution_count": 30,
     "metadata": {},
     "output_type": "execute_result"
    }
   ],
   "source": [
    "# to compute the determinant of a given numpy array\n",
    "A = np.array([[1,2],[3,4]])\n",
    "np.linalg.det(A)"
   ]
  },
  {
   "cell_type": "markdown",
   "id": "4dadf313",
   "metadata": {},
   "source": [
    "### Inverse"
   ]
  },
  {
   "cell_type": "code",
   "execution_count": 31,
   "id": "c407a5be",
   "metadata": {},
   "outputs": [
    {
     "name": "stdout",
     "output_type": "stream",
     "text": [
      "[[-2.   1. ]\n",
      " [ 1.5 -0.5]]\n",
      "[[1.0000000e+00 0.0000000e+00]\n",
      " [8.8817842e-16 1.0000000e+00]]\n"
     ]
    }
   ],
   "source": [
    "# to compute inverse of a matrix\n",
    "A_inv = np.linalg.inv(A)\n",
    "print(A_inv)\n",
    "print(np.dot(A,A_inv))"
   ]
  },
  {
   "cell_type": "code",
   "execution_count": 37,
   "id": "5daa35db",
   "metadata": {},
   "outputs": [
    {
     "name": "stdout",
     "output_type": "stream",
     "text": [
      "0.0\n",
      "[[0.048 0.024]\n",
      " [0.064 0.032]]\n",
      "[[1.77635684e-15 2.00000000e+00]\n",
      " [8.88178420e-16 1.00000000e+00]]\n"
     ]
    }
   ],
   "source": [
    "# in some cases matric may not be invertible\n",
    "# we can calculate pseudo inverse in those cases\n",
    "A = np.array([[6,8],[3,4]])\n",
    "print(np.linalg.det(A))\n",
    "p_inv = np.linalg.pinv(A)\n",
    "print(p_inv)\n",
    "print(np.dot(A,A_inv))\n",
    "\n",
    "# when A is an invertible matrix, then both inverse and pseudo inverse are same\n",
    "# in general, we use pseudo inverse method as it will work for both type of matrices"
   ]
  },
  {
   "cell_type": "markdown",
   "id": "0cf24214",
   "metadata": {},
   "source": [
    "### Solve a System of Linear Equations"
   ]
  },
  {
   "cell_type": "code",
   "execution_count": 39,
   "id": "415e6410",
   "metadata": {},
   "outputs": [],
   "source": [
    "# ro find the solution for two equations -> 2x1 + 3x2 = 8 and 3x1 + 1x2 = 5\n",
    "a = np.array([[2,3],[3,1]])\n",
    "b = np.array([8,5])"
   ]
  },
  {
   "cell_type": "code",
   "execution_count": 40,
   "id": "9de7bbc5",
   "metadata": {},
   "outputs": [
    {
     "data": {
      "text/plain": [
       "array([1., 2.])"
      ]
     },
     "execution_count": 40,
     "metadata": {},
     "output_type": "execute_result"
    }
   ],
   "source": [
    "np.linalg.solve(a,b)"
   ]
  },
  {
   "cell_type": "code",
   "execution_count": null,
   "id": "84adb7ae",
   "metadata": {},
   "outputs": [],
   "source": []
  }
 ],
 "metadata": {
  "kernelspec": {
   "display_name": "Python 3 (ipykernel)",
   "language": "python",
   "name": "python3"
  },
  "language_info": {
   "codemirror_mode": {
    "name": "ipython",
    "version": 3
   },
   "file_extension": ".py",
   "mimetype": "text/x-python",
   "name": "python",
   "nbconvert_exporter": "python",
   "pygments_lexer": "ipython3",
   "version": "3.8.9"
  }
 },
 "nbformat": 4,
 "nbformat_minor": 5
}
