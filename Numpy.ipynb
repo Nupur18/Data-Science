{
 "cells": [
  {
   "cell_type": "code",
   "execution_count": 1,
   "id": "4a32cf8e",
   "metadata": {},
   "outputs": [],
   "source": [
    "import numpy as np"
   ]
  },
  {
   "cell_type": "code",
   "execution_count": 3,
   "id": "b85365f7",
   "metadata": {},
   "outputs": [
    {
     "name": "stdout",
     "output_type": "stream",
     "text": [
      "[1 2 3 4 5]\n",
      "<class 'numpy.ndarray'>\n",
      "(5,)\n"
     ]
    }
   ],
   "source": [
    "# create or initialise ararys\n",
    "a = np.array([1,2,3,4,5])  # giving a list\n",
    "print(a)\n",
    "print(type(a))\n",
    "print(a.shape)  # shape/dimension returns a tuple -> (5,) which means this is a linear array"
   ]
  },
  {
   "cell_type": "code",
   "execution_count": 5,
   "id": "54ab0f02",
   "metadata": {},
   "outputs": [
    {
     "name": "stdout",
     "output_type": "stream",
     "text": [
      "[[1]\n",
      " [2]\n",
      " [3]\n",
      " [4]\n",
      " [5]]\n",
      "<class 'numpy.ndarray'>\n",
      "(5, 1)\n"
     ]
    }
   ],
   "source": [
    "b = np.array([[1],[2],[3],[4],[5]]) # this is a 2d array \n",
    "print(b)\n",
    "print(type(b))\n",
    "print(b.shape)"
   ]
  },
  {
   "cell_type": "code",
   "execution_count": 9,
   "id": "9c1aacbe",
   "metadata": {},
   "outputs": [
    {
     "name": "stdout",
     "output_type": "stream",
     "text": [
      "[[1 2 3]\n",
      " [4 5 6]]\n",
      "(2, 3)\n",
      "5\n"
     ]
    }
   ],
   "source": [
    "c = np.array([[1,2,3], [4,5,6]])\n",
    "print(c)\n",
    "print(c.shape)\n",
    "print(c[1][1])"
   ]
  },
  {
   "cell_type": "code",
   "execution_count": 10,
   "id": "8dcac433",
   "metadata": {},
   "outputs": [
    {
     "name": "stdout",
     "output_type": "stream",
     "text": [
      "[[0. 0. 0.]\n",
      " [0. 0. 0.]\n",
      " [0. 0. 0.]]\n"
     ]
    }
   ],
   "source": [
    "# create arrays of zeros\n",
    "a = np.zeros((3,3))  # inside the function, we are giving the shape\n",
    "print(a)"
   ]
  },
  {
   "cell_type": "code",
   "execution_count": 11,
   "id": "db6f4094",
   "metadata": {},
   "outputs": [
    {
     "name": "stdout",
     "output_type": "stream",
     "text": [
      "[[1. 1. 1.]\n",
      " [1. 1. 1.]]\n"
     ]
    }
   ],
   "source": [
    "# create arrays of ones\n",
    "b = np.ones((2,3))\n",
    "print(b)"
   ]
  },
  {
   "cell_type": "code",
   "execution_count": 12,
   "id": "7aca5440",
   "metadata": {},
   "outputs": [
    {
     "name": "stdout",
     "output_type": "stream",
     "text": [
      "[[5 5]\n",
      " [5 5]\n",
      " [5 5]]\n"
     ]
    }
   ],
   "source": [
    "# create array of some constants\n",
    "# the first paramter is tuple which denotes the shape of the array\n",
    "# the second paramter is what value it should take, the constant that should be there in the array\n",
    "c = np.full((3,2), 5)\n",
    "print(c)"
   ]
  },
  {
   "cell_type": "code",
   "execution_count": 13,
   "id": "532b7386",
   "metadata": {},
   "outputs": [
    {
     "name": "stdout",
     "output_type": "stream",
     "text": [
      "[[1. 0. 0. 0.]\n",
      " [0. 1. 0. 0.]\n",
      " [0. 0. 1. 0.]\n",
      " [0. 0. 0. 1.]]\n"
     ]
    }
   ],
   "source": [
    "# create identity matrix which is a square matrix\n",
    "# we have to give the size to the function\n",
    "d = np.eye(4)\n",
    "print(d)"
   ]
  },
  {
   "cell_type": "code",
   "execution_count": 14,
   "id": "2064d933",
   "metadata": {},
   "outputs": [
    {
     "name": "stdout",
     "output_type": "stream",
     "text": [
      "[[0.9233067  0.61713384 0.46549971]\n",
      " [0.6884465  0.48380151 0.78625064]]\n"
     ]
    }
   ],
   "source": [
    "# to get a matrix of random integers\n",
    "# we give a tuple of shape\n",
    "randomMatrix = np.random.random((2,3))\n",
    "print(randomMatrix)"
   ]
  },
  {
   "cell_type": "code",
   "execution_count": 15,
   "id": "324afc7f",
   "metadata": {},
   "outputs": [
    {
     "name": "stdout",
     "output_type": "stream",
     "text": [
      "[0.61713384 0.48380151]\n"
     ]
    }
   ],
   "source": [
    "# we can also access and update elements of matrix\n",
    "# if we want to print elements of a column, \n",
    "# we have to specify the indexing for each of the dimensions\n",
    "print(randomMatrix[:,1])\n",
    "# to print 2nd column of randomMatrix\n",
    "# we need all the rows, so : -> no start value, no end value"
   ]
  },
  {
   "cell_type": "code",
   "execution_count": 16,
   "id": "bb8107b7",
   "metadata": {},
   "outputs": [
    {
     "name": "stdout",
     "output_type": "stream",
     "text": [
      "[[0.9233067  0.61713384 0.46549971]\n",
      " [0.6884465  1.         1.        ]]\n"
     ]
    }
   ],
   "source": [
    "# to update some particular elements \n",
    "randomMatrix[1, 1:] = 1\n",
    "print(randomMatrix)\n",
    "# in slicing(:), starting point is included and ending point is excluded"
   ]
  },
  {
   "cell_type": "code",
   "execution_count": 22,
   "id": "45a28873",
   "metadata": {},
   "outputs": [
    {
     "name": "stdout",
     "output_type": "stream",
     "text": [
      "[[0. 0. 0.]\n",
      " [0. 0. 0.]\n",
      " [0. 0. 0.]]\n",
      "[[0. 0. 7.]\n",
      " [5. 5. 7.]\n",
      " [0. 0. 7.]]\n"
     ]
    }
   ],
   "source": [
    "# set some rows and columns with any values\n",
    "z = np.zeros((3,3))\n",
    "print(z)\n",
    "z[1,:] = 5\n",
    "z[:,-1] = 7\n",
    "print(z)"
   ]
  },
  {
   "cell_type": "code",
   "execution_count": 4,
   "id": "d118950e",
   "metadata": {},
   "outputs": [
    {
     "name": "stdout",
     "output_type": "stream",
     "text": [
      "[0 1 2 3 4 5 6 7 8 9]\n"
     ]
    }
   ],
   "source": [
    "# to generate an array in a given range \n",
    "a = np.arange(10)\n",
    "print(a)\n",
    "# we will get all the numbers from 0 to 9"
   ]
  },
  {
   "cell_type": "code",
   "execution_count": 5,
   "id": "3786cca0",
   "metadata": {},
   "outputs": [
    {
     "name": "stdout",
     "output_type": "stream",
     "text": [
      "[ 5  6  7  8  9 10 11 12 13 14]\n"
     ]
    }
   ],
   "source": [
    "a = np.arange(10) + 5\n",
    "print(a)\n",
    "# array will start from 5"
   ]
  },
  {
   "cell_type": "markdown",
   "id": "57a8dd03",
   "metadata": {},
   "source": [
    "#### Data types"
   ]
  },
  {
   "cell_type": "code",
   "execution_count": 23,
   "id": "3b6132e8",
   "metadata": {},
   "outputs": [
    {
     "name": "stdout",
     "output_type": "stream",
     "text": [
      "float64\n"
     ]
    }
   ],
   "source": [
    "# all numpy arrays have some data types \n",
    "print(z.dtype)"
   ]
  },
  {
   "cell_type": "code",
   "execution_count": 24,
   "id": "a631d964",
   "metadata": {},
   "outputs": [
    {
     "name": "stdout",
     "output_type": "stream",
     "text": [
      "[[0 0 0]\n",
      " [0 0 0]\n",
      " [0 0 0]]\n"
     ]
    }
   ],
   "source": [
    "# to create an array of integers\n",
    "m = np.zeros((3,3), dtype = np.int64)\n",
    "print(m)\n",
    "# by default dtype is float"
   ]
  },
  {
   "cell_type": "markdown",
   "id": "8573b283",
   "metadata": {},
   "source": [
    "#### Mathematical Operations"
   ]
  },
  {
   "cell_type": "code",
   "execution_count": 25,
   "id": "fba84b8e",
   "metadata": {},
   "outputs": [],
   "source": [
    "x = np.array([[1,2],[3,4]])\n",
    "y = np.array([[5,6],[7,8]])"
   ]
  },
  {
   "cell_type": "markdown",
   "id": "6d30533e",
   "metadata": {},
   "source": [
    "- element wise addition"
   ]
  },
  {
   "cell_type": "code",
   "execution_count": 27,
   "id": "f06cf002",
   "metadata": {},
   "outputs": [
    {
     "name": "stdout",
     "output_type": "stream",
     "text": [
      "[[ 6  8]\n",
      " [10 12]]\n",
      "[[ 6  8]\n",
      " [10 12]]\n"
     ]
    }
   ],
   "source": [
    "print(x+y)\n",
    "# or\n",
    "print(np.add(x,y))"
   ]
  },
  {
   "cell_type": "markdown",
   "id": "4431a9b8",
   "metadata": {},
   "source": [
    "- element wise subtraction"
   ]
  },
  {
   "cell_type": "code",
   "execution_count": 28,
   "id": "28f3b258",
   "metadata": {},
   "outputs": [
    {
     "name": "stdout",
     "output_type": "stream",
     "text": [
      "[[-4 -4]\n",
      " [-4 -4]]\n",
      "[[-4 -4]\n",
      " [-4 -4]]\n"
     ]
    }
   ],
   "source": [
    "print(x-y)\n",
    "# or\n",
    "print(np.subtract(x,y))"
   ]
  },
  {
   "cell_type": "markdown",
   "id": "efbdedcc",
   "metadata": {},
   "source": [
    "- element wise multiplication"
   ]
  },
  {
   "cell_type": "code",
   "execution_count": 29,
   "id": "e3cb49b3",
   "metadata": {},
   "outputs": [
    {
     "name": "stdout",
     "output_type": "stream",
     "text": [
      "[[ 5 12]\n",
      " [21 32]]\n",
      "[[ 5 12]\n",
      " [21 32]]\n"
     ]
    }
   ],
   "source": [
    "print(x*y)\n",
    "# or\n",
    "print(np.multiply(x,y))"
   ]
  },
  {
   "cell_type": "markdown",
   "id": "ba0ee1ac",
   "metadata": {},
   "source": [
    "- element wise division"
   ]
  },
  {
   "cell_type": "code",
   "execution_count": 30,
   "id": "a9c8810e",
   "metadata": {},
   "outputs": [
    {
     "name": "stdout",
     "output_type": "stream",
     "text": [
      "[[0.2        0.33333333]\n",
      " [0.42857143 0.5       ]]\n",
      "[[0.2        0.33333333]\n",
      " [0.42857143 0.5       ]]\n"
     ]
    }
   ],
   "source": [
    "print(x/y)\n",
    "# or\n",
    "print(np.divide(x,y))"
   ]
  },
  {
   "cell_type": "markdown",
   "id": "f20f947b",
   "metadata": {},
   "source": [
    "- element wise square root of a matrix"
   ]
  },
  {
   "cell_type": "code",
   "execution_count": 31,
   "id": "0787be0e",
   "metadata": {},
   "outputs": [
    {
     "name": "stdout",
     "output_type": "stream",
     "text": [
      "[[1.         1.41421356]\n",
      " [1.73205081 2.        ]]\n"
     ]
    }
   ],
   "source": [
    "print(np.sqrt(x))"
   ]
  },
  {
   "cell_type": "markdown",
   "id": "94e5ca51",
   "metadata": {},
   "source": [
    "- matrix multiplication / dot product"
   ]
  },
  {
   "cell_type": "code",
   "execution_count": 32,
   "id": "f67a022e",
   "metadata": {},
   "outputs": [
    {
     "name": "stdout",
     "output_type": "stream",
     "text": [
      "[[1 2]\n",
      " [3 4]]\n",
      "[[5 6]\n",
      " [7 8]]\n",
      "[[19 22]\n",
      " [43 50]]\n",
      "[[19 22]\n",
      " [43 50]]\n"
     ]
    }
   ],
   "source": [
    "print(x)\n",
    "print(y)\n",
    "\n",
    "print(x.dot(y))\n",
    "# or\n",
    "print(np.dot(x,y))"
   ]
  },
  {
   "cell_type": "markdown",
   "id": "b43f6279",
   "metadata": {},
   "source": [
    "- multiplication / dot product of two vectors (vector can be treated as a linear array) gives a scalar"
   ]
  },
  {
   "cell_type": "code",
   "execution_count": 33,
   "id": "83582f58",
   "metadata": {},
   "outputs": [
    {
     "name": "stdout",
     "output_type": "stream",
     "text": [
      "30\n"
     ]
    }
   ],
   "source": [
    "a = np.array([1,2,3,4])\n",
    "b = np.array([1,2,3,4])\n",
    "print(a.dot(b))"
   ]
  },
  {
   "cell_type": "markdown",
   "id": "8287c137",
   "metadata": {},
   "source": [
    "- sum of all the elements of a matrix"
   ]
  },
  {
   "cell_type": "code",
   "execution_count": 34,
   "id": "bfcca427",
   "metadata": {},
   "outputs": [
    {
     "name": "stdout",
     "output_type": "stream",
     "text": [
      "[1 2 3 4]\n",
      "10\n"
     ]
    }
   ],
   "source": [
    "print(a)\n",
    "print(sum(a))"
   ]
  },
  {
   "cell_type": "code",
   "execution_count": 35,
   "id": "96be069d",
   "metadata": {},
   "outputs": [
    {
     "name": "stdout",
     "output_type": "stream",
     "text": [
      "[[1 2]\n",
      " [3 4]]\n",
      "10\n"
     ]
    }
   ],
   "source": [
    "print(x)\n",
    "print(np.sum(x))"
   ]
  },
  {
   "cell_type": "code",
   "execution_count": 37,
   "id": "3e7db21d",
   "metadata": {},
   "outputs": [
    {
     "name": "stdout",
     "output_type": "stream",
     "text": [
      "[4 6]\n",
      "[3 7]\n"
     ]
    }
   ],
   "source": [
    "# np.sum() function takes an optional parameter axis\n",
    "print(np.sum(x,axis=0))   # sum of all the columns\n",
    "print(np.sum(x,axis=1))   # sum of all the rows"
   ]
  },
  {
   "cell_type": "markdown",
   "id": "2bdd2900",
   "metadata": {},
   "source": [
    "#### Stacking of arrays"
   ]
  },
  {
   "cell_type": "code",
   "execution_count": 38,
   "id": "667db845",
   "metadata": {},
   "outputs": [
    {
     "name": "stdout",
     "output_type": "stream",
     "text": [
      "[1 2 3 4]\n",
      "[ 1  4  9 16]\n"
     ]
    }
   ],
   "source": [
    "print(a)\n",
    "b = b**2\n",
    "print(b)"
   ]
  },
  {
   "cell_type": "code",
   "execution_count": 47,
   "id": "ebfdaf5c",
   "metadata": {},
   "outputs": [
    {
     "name": "stdout",
     "output_type": "stream",
     "text": [
      "[[ 1  1]\n",
      " [ 2  4]\n",
      " [ 3  9]\n",
      " [ 4 16]]\n"
     ]
    }
   ],
   "source": [
    "# stack function is used to combine arrays to a single array\n",
    "# firts we give the arrays we want to concatenate and \n",
    "# then the axix along which we want to concantenate\n",
    "p = np.stack((a,b),axis=1)\n",
    "# first array becomes the first column and second array becomes the second column\n",
    "print(p)"
   ]
  },
  {
   "cell_type": "code",
   "execution_count": 43,
   "id": "bfd7166b",
   "metadata": {},
   "outputs": [
    {
     "name": "stdout",
     "output_type": "stream",
     "text": [
      "[[ 1  2  3  4]\n",
      " [ 1  4  9 16]]\n"
     ]
    }
   ],
   "source": [
    "q = np.stack((a,b),axis=0)\n",
    "# first array becomes the first row and second array becomes the second row\n",
    "print(q)"
   ]
  },
  {
   "cell_type": "markdown",
   "id": "ff50b71b",
   "metadata": {},
   "source": [
    "#### Reshape a Numpy array"
   ]
  },
  {
   "cell_type": "code",
   "execution_count": 49,
   "id": "7c2e3c9b",
   "metadata": {},
   "outputs": [
    {
     "name": "stdout",
     "output_type": "stream",
     "text": [
      "[[ 1  2  3  4]\n",
      " [ 1  4  9 16]]\n",
      "[[ 1  2]\n",
      " [ 3  4]\n",
      " [ 1  4]\n",
      " [ 9 16]]\n"
     ]
    }
   ],
   "source": [
    "print(q)\n",
    "q = q.reshape((4,2))  # here we give a new shape (4,2) to change the shape to 4 rows and 2 columns\n",
    "print(q)"
   ]
  },
  {
   "cell_type": "code",
   "execution_count": 51,
   "id": "f1dce91c",
   "metadata": {},
   "outputs": [
    {
     "name": "stdout",
     "output_type": "stream",
     "text": [
      "[[ 1]\n",
      " [ 2]\n",
      " [ 3]\n",
      " [ 4]\n",
      " [ 1]\n",
      " [ 4]\n",
      " [ 9]\n",
      " [16]]\n"
     ]
    }
   ],
   "source": [
    "q = q.reshape((8,1))  \n",
    "print(q)"
   ]
  },
  {
   "cell_type": "code",
   "execution_count": 52,
   "id": "8ef7b366",
   "metadata": {},
   "outputs": [
    {
     "name": "stdout",
     "output_type": "stream",
     "text": [
      "[ 1  2  3  4  1  4  9 16]\n"
     ]
    }
   ],
   "source": [
    "# linear array\n",
    "q = q.reshape((8,))  \n",
    "print(q)"
   ]
  },
  {
   "cell_type": "code",
   "execution_count": 53,
   "id": "64c16158",
   "metadata": {},
   "outputs": [
    {
     "name": "stdout",
     "output_type": "stream",
     "text": [
      "[[ 1  2]\n",
      " [ 3  4]\n",
      " [ 1  4]\n",
      " [ 9 16]]\n",
      "[[ 1  2  3  4]\n",
      " [ 1  4  9 16]]\n"
     ]
    }
   ],
   "source": [
    "# if we need 4 rows/columns but we do not know the number of columns/rows respectively, \n",
    "# we can add -1 and it will automatically figure out what number of columns/rows should be there\n",
    "q = q.reshape((4,-1))  \n",
    "print(q)\n",
    "q = q.reshape((-1,4))  \n",
    "print(q)"
   ]
  },
  {
   "cell_type": "markdown",
   "id": "f86f5a6b",
   "metadata": {},
   "source": [
    "### Numpy Random Module\n",
    "- rand : Random values in a given shape.\n",
    "- randn : Returns a sample (or samples) from the \"standard normal\" distribution.\n",
    "- randint : Returns random integers from low (inclusive) to high (exclusive).\n",
    "- random : Returns random floats in the half-open interval [0.0, 1.0]\n",
    "- choice : Generates a random sample from a given 1-D array\n",
    "- shuffle : shuffles the contents of a sequence"
   ]
  },
  {
   "cell_type": "code",
   "execution_count": 6,
   "id": "c73765ea",
   "metadata": {},
   "outputs": [
    {
     "name": "stdout",
     "output_type": "stream",
     "text": [
      "[ 5  6  7  8  9 10 11 12 13 14]\n"
     ]
    }
   ],
   "source": [
    "a = np.arange(10) + 5\n",
    "print(a)"
   ]
  },
  {
   "cell_type": "code",
   "execution_count": 17,
   "id": "3651b3d1",
   "metadata": {},
   "outputs": [
    {
     "name": "stdout",
     "output_type": "stream",
     "text": [
      "[6 5 9]\n"
     ]
    }
   ],
   "source": [
    "# setting a seed to have the same random numbers\n",
    "np.random.seed(1)\n",
    "\n",
    "# to shuffle all the elements of an array randomly\n",
    "np.random.shuffle(a)\n",
    "print(a)"
   ]
  },
  {
   "cell_type": "code",
   "execution_count": 10,
   "id": "e637af6d",
   "metadata": {},
   "outputs": [
    {
     "name": "stdout",
     "output_type": "stream",
     "text": [
      "[[0.27482931 0.53416677 0.71659121]\n",
      " [0.7448019  0.81113224 0.86311897]]\n"
     ]
    }
   ],
   "source": [
    "# to generate an array of random numbers\n",
    "a = np.random.rand(2,3)   # in the function, we give the shape\n",
    "print(a)"
   ]
  },
  {
   "cell_type": "code",
   "execution_count": 11,
   "id": "8300251c",
   "metadata": {},
   "outputs": [
    {
     "name": "stdout",
     "output_type": "stream",
     "text": [
      "[[ 0.15633836  0.09228813  0.27305258]\n",
      " [-0.55932168 -0.36267299  2.27020131]]\n"
     ]
    }
   ],
   "source": [
    "# to generate a random array of numbers from standard normal distribution\n",
    "a = np.random.randn(2,3)   # in the function, we give the shape\n",
    "print(a)"
   ]
  },
  {
   "cell_type": "code",
   "execution_count": 12,
   "id": "f7191b22",
   "metadata": {},
   "outputs": [
    {
     "name": "stdout",
     "output_type": "stream",
     "text": [
      "[6 9 5]\n"
     ]
    }
   ],
   "source": [
    "# we will get 3 random integers in the range of 5 to 10\n",
    "a = np.random.randint(5,10,3)\n",
    "print(a)"
   ]
  },
  {
   "cell_type": "code",
   "execution_count": 13,
   "id": "3fab4519",
   "metadata": {},
   "outputs": [
    {
     "name": "stdout",
     "output_type": "stream",
     "text": [
      "2\n"
     ]
    }
   ],
   "source": [
    "# to randomly pick one element from the array\n",
    "element = np.random.choice([1,4,3,2,11,27])    # here we give a list\n",
    "print(element)"
   ]
  },
  {
   "cell_type": "markdown",
   "id": "bce704f4",
   "metadata": {},
   "source": [
    "### Some more Numpy functions - Statistics\n",
    "- min, max\n",
    "- mean\n",
    "- median\n",
    "- average\n",
    "- variance\n",
    "- standard deviation"
   ]
  },
  {
   "cell_type": "code",
   "execution_count": 52,
   "id": "bd6c5ea1",
   "metadata": {},
   "outputs": [
    {
     "name": "stdout",
     "output_type": "stream",
     "text": [
      "[[1 2 3 4]\n",
      " [7 6 2 0]]\n"
     ]
    }
   ],
   "source": [
    "a = np.array([[1,2,3,4],[7,6,2,0]])\n",
    "print(a)"
   ]
  },
  {
   "cell_type": "code",
   "execution_count": 53,
   "id": "9ae7544b",
   "metadata": {},
   "outputs": [
    {
     "name": "stdout",
     "output_type": "stream",
     "text": [
      "0\n",
      "[1 2 2 0]\n",
      "[1 0]\n"
     ]
    }
   ],
   "source": [
    "# finds the minimum element across all in the array\n",
    "print(np.min(a))\n",
    "\n",
    "# compute minimum element along each direction\n",
    "print(np.min(a,axis=0))\n",
    "print(np.min(a,axis=1))\n",
    "# in case of multidimensional array, \n",
    "# we can specify the axis for the direction along which we want to do the computation"
   ]
  },
  {
   "cell_type": "code",
   "execution_count": 63,
   "id": "431a73f7",
   "metadata": {},
   "outputs": [
    {
     "name": "stdout",
     "output_type": "stream",
     "text": [
      "3.0\n",
      "3.0\n"
     ]
    }
   ],
   "source": [
    "b = np.array([1,2,3,4,5])\n",
    "# mean is used to average all the elements\n",
    "# first way\n",
    "m = sum(b)/5\n",
    "print(m)\n",
    "# second way\n",
    "print(np.mean(b))"
   ]
  },
  {
   "cell_type": "code",
   "execution_count": 65,
   "id": "202f7fd2",
   "metadata": {},
   "outputs": [
    {
     "name": "stdout",
     "output_type": "stream",
     "text": [
      "[4.  4.  2.5 2. ]\n",
      "[2.5  3.75]\n"
     ]
    }
   ],
   "source": [
    "print(np.mean(a,axis = 0))   # along the columns\n",
    "print(np.mean(a,axis = 1))   # along the rows "
   ]
  },
  {
   "cell_type": "code",
   "execution_count": 66,
   "id": "292ce78b",
   "metadata": {},
   "outputs": [
    {
     "name": "stdout",
     "output_type": "stream",
     "text": [
      "2.0\n"
     ]
    }
   ],
   "source": [
    "# meadian is the middle most value\n",
    "c = np.array([1,5,4,2,0])\n",
    "print(np.median(c))"
   ]
  },
  {
   "cell_type": "markdown",
   "id": "1bacaa79",
   "metadata": {},
   "source": [
    "- there is a difference between mean and average (average is weighted average) \n",
    "- if array is [1,2,3,4] => mean = 10/4 = 2.5\n",
    "- if array is [1,2,3,4] and weight is [1,2,3,4], each element is multiplied by its weight w[i],  \n",
    "  so average = (1X1 + 2X2 + 3X3 + 4X4)/4 = 7.5"
   ]
  },
  {
   "cell_type": "code",
   "execution_count": 68,
   "id": "18913b4e",
   "metadata": {},
   "outputs": [
    {
     "name": "stdout",
     "output_type": "stream",
     "text": [
      "2.066666666666667\n"
     ]
    }
   ],
   "source": [
    "w = np.array([1,2,3,4,5])\n",
    "print(np.average(c,weights=w))"
   ]
  },
  {
   "cell_type": "code",
   "execution_count": 69,
   "id": "6a41043f",
   "metadata": {},
   "outputs": [
    {
     "name": "stdout",
     "output_type": "stream",
     "text": [
      "2.4\n"
     ]
    }
   ],
   "source": [
    "# if weights are 1, average will the give the same result as mean\n",
    "w = np.array([1,1,1,1,1])\n",
    "print(np.average(c,weights=w))"
   ]
  },
  {
   "cell_type": "code",
   "execution_count": 74,
   "id": "972b15f9",
   "metadata": {},
   "outputs": [
    {
     "name": "stdout",
     "output_type": "stream",
     "text": [
      "1.854723699099141\n",
      "1.854723699099141\n"
     ]
    }
   ],
   "source": [
    "# standard deviation\n",
    "u = np.mean(c)\n",
    "myStd = np.sqrt(np.mean(abs(c-u)**2))    # not using inbuilt function of standard deviation\n",
    "print(myStd)\n",
    "\n",
    "print(np.std(c))   # inbuilt function"
   ]
  },
  {
   "cell_type": "code",
   "execution_count": 75,
   "id": "7c3dc8f0",
   "metadata": {},
   "outputs": [
    {
     "name": "stdout",
     "output_type": "stream",
     "text": [
      "3.440000000000001\n",
      "3.4400000000000004\n"
     ]
    }
   ],
   "source": [
    "# variance\n",
    "print(myStd**2)\n",
    "print(np.var(c))"
   ]
  },
  {
   "cell_type": "code",
   "execution_count": null,
   "id": "3944a302",
   "metadata": {},
   "outputs": [],
   "source": []
  }
 ],
 "metadata": {
  "kernelspec": {
   "display_name": "Python 3 (ipykernel)",
   "language": "python",
   "name": "python3"
  },
  "language_info": {
   "codemirror_mode": {
    "name": "ipython",
    "version": 3
   },
   "file_extension": ".py",
   "mimetype": "text/x-python",
   "name": "python",
   "nbconvert_exporter": "python",
   "pygments_lexer": "ipython3",
   "version": "3.8.9"
  }
 },
 "nbformat": 4,
 "nbformat_minor": 5
}
