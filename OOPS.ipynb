{
 "cells": [
  {
   "cell_type": "code",
   "execution_count": 4,
   "id": "8fc7fd93",
   "metadata": {},
   "outputs": [
    {
     "name": "stdout",
     "output_type": "stream",
     "text": [
      "<class 'int'>\n",
      "True\n",
      "True\n",
      "True\n",
      "True\n",
      "True\n"
     ]
    }
   ],
   "source": [
    "# everything in Python (int, float, function, class) is an object\n",
    "\n",
    "class A:\n",
    "    pass\n",
    "# this is an empty class \n",
    "\n",
    "a = 1\n",
    "print(type(a))\n",
    "print(isinstance(a, object))  # check if 'a' is an instance of onject class\n",
    "\n",
    "a = \"jatin\"\n",
    "print(isinstance(a, object))\n",
    "\n",
    "a = print\n",
    "print(isinstance(a, object))\n",
    "\n",
    "a = A   # not creating an object of the class\n",
    "print(isinstance(a, object))\n",
    "\n",
    "a = A()  # creating an instance of class\n",
    "print(isinstance(a, object))"
   ]
  },
  {
   "cell_type": "code",
   "execution_count": 2,
   "id": "f72b0b48",
   "metadata": {},
   "outputs": [],
   "source": [
    "# every object in python has a flag of whether this object is callable or not\n",
    "# eg:- function and class objects are callable but int and float objects are not callable\n",
    "# when we call the function, it starts executing the procedure inside this object\n",
    "# when we call the class, it creates an instance of the class"
   ]
  },
  {
   "cell_type": "markdown",
   "id": "85363950",
   "metadata": {},
   "source": [
    "#### A minimal example of a class"
   ]
  },
  {
   "cell_type": "code",
   "execution_count": 1,
   "id": "eda229f6",
   "metadata": {},
   "outputs": [
    {
     "name": "stdout",
     "output_type": "stream",
     "text": [
      "<__main__.Person object at 0x7fb1d8a6c940>\n"
     ]
    },
    {
     "data": {
      "text/plain": [
       "140401820748096"
      ]
     },
     "execution_count": 1,
     "metadata": {},
     "output_type": "execute_result"
    }
   ],
   "source": [
    "# keyword 'class' followed by identifier/name of the class\n",
    "class Person:\n",
    "    pass\n",
    "\n",
    "# to create a new object/instance of class in Python we call that class\n",
    "p = Person()   # returns an instance of Person\n",
    "print(p)\n",
    "\n",
    "# __main__ is the name of the module in which the class (Person) exists\n",
    "# 0x7f8af102a790 is the address of the object, 0x means heaxdecimal value\n",
    "# when we directly print the object, it prints class declaration, \n",
    "# and the memory address where the object is located at.\n",
    "id(p)\n",
    "hex(id(p))"
   ]
  },
  {
   "cell_type": "code",
   "execution_count": 4,
   "id": "817ea0be",
   "metadata": {},
   "outputs": [
    {
     "name": "stdout",
     "output_type": "stream",
     "text": [
      "Hello my name is jatin\n",
      "Hello my name is jatin\n"
     ]
    }
   ],
   "source": [
    "# created a class Person and it has the method called say_hi\n",
    "# this class Person has two attributes\n",
    "# one attribute is the name, every name will be same\n",
    "# second attribute is the behaviour\n",
    "class Person:\n",
    "    name = \"jatin\"\n",
    "    def say_hi(self):\n",
    "        print(\"Hello my name is\", self.name)\n",
    "        \n",
    "p = Person()\n",
    "p.say_hi()\n",
    "# say_hi accepts an argument but we haven't given any argument while calling this function\n",
    "# every method inside the class requires the context of the object, \n",
    "# it automatically passes the object as the first argument \n",
    "# this object p is passed as the first argument to this function everytime we call it as a method\n",
    "\n",
    "# in Python, we can use classes directly as abstract classes, this yields the exact same result\n",
    "Person.say_hi(p)"
   ]
  },
  {
   "cell_type": "code",
   "execution_count": 11,
   "id": "cfa54738",
   "metadata": {},
   "outputs": [
    {
     "name": "stdout",
     "output_type": "stream",
     "text": [
      "new object created\n",
      "Hello my name is abhishek\n"
     ]
    }
   ],
   "source": [
    "# python has some special methods, they start and end with double underscore\n",
    "# as soon as the object is instantiated,  __init__ method is called\n",
    "class Person:\n",
    "    \n",
    "    # not a constructor but a hook or side effect which is caused when a new object is created\n",
    "    # accepting an argument in init method which is name and \n",
    "    # storing this argument as an attribute of the object\n",
    "    # self means objet and self.name means referring to the attribute of the object\n",
    "    def __init__(self, name):   \n",
    "        self.name = name\n",
    "        print(\"new object created\")\n",
    "        \n",
    "    def say_hi(self):\n",
    "        print(\"Hello my name is\", self.name)\n",
    "        \n",
    "p = Person(\"abhishek\")\n",
    "p.say_hi()"
   ]
  },
  {
   "cell_type": "markdown",
   "id": "3dbaf6af",
   "metadata": {},
   "source": [
    "### Dunders or Magic Functions or Magic Methods"
   ]
  },
  {
   "cell_type": "code",
   "execution_count": 7,
   "id": "3b903872",
   "metadata": {},
   "outputs": [],
   "source": [
    "# they provide us the interface or hooks in which we can implement our individual functonalities\n",
    "# life cycle of an object - first is creation and last id deletion\n",
    "# others may be string representation, add or subtract to another object\n",
    "# python has created a list of all such events and for each of that event\n",
    "# it has created a corresponding dunder or magic method\n",
    "# every dunder starts and ends with double underscore\n",
    "# __init__(self) method is called whenever the object is created with the parameters given\n",
    "# __del__(self) method is called when the object is deleted or thrown out of memory deliberately \n",
    "# __add__(self, other) method is called whenever we try to add an object to another object\n",
    "# if a class has 2 objects a and b, when we do a+b, internally python will do a.__add__(b) \n",
    "# __str__(self) method is used to convert the object into string, str(a) will call a.__str__() \n",
    "# __repr__(self) - representation function\n",
    "# python's print function uses representation function to print the string\n",
    "# __eq__(self, other) equal to operator/equivalence method : a==b will be translated to a.__eq__(b)\n",
    "# unlike c++, we don't have operator overloading in python, \n",
    "# we just overwrite the current methods and we get that paticular functionality\n",
    "class Car:\n",
    "    \n",
    "    def __init__(self, model, mileage):\n",
    "        self.model = model\n",
    "        self.mileage = mileage\n",
    "        \n",
    "    def __str__(self):\n",
    "        return \"{} {}\".format(self.model, self.mileage)\n",
    "    \n",
    "    def __repr__(self):\n",
    "        return \"{}\".format(self.model)\n",
    "    \n",
    "    def __eq__(self, other):\n",
    "        return self.mileage == other.mileage\n",
    "    \n",
    "    def __add__(self, other):\n",
    "        return self.mileage + other.mileage"
   ]
  },
  {
   "cell_type": "code",
   "execution_count": 8,
   "id": "4b20f267",
   "metadata": {},
   "outputs": [],
   "source": [
    "c1 = Car('a', 2)\n",
    "c2 = Car('b', 2)"
   ]
  },
  {
   "cell_type": "code",
   "execution_count": 9,
   "id": "154730f2",
   "metadata": {},
   "outputs": [
    {
     "data": {
      "text/plain": [
       "4"
      ]
     },
     "execution_count": 9,
     "metadata": {},
     "output_type": "execute_result"
    }
   ],
   "source": [
    "c1 + c2"
   ]
  },
  {
   "cell_type": "code",
   "execution_count": 10,
   "id": "5867b5cb",
   "metadata": {},
   "outputs": [
    {
     "data": {
      "text/plain": [
       "True"
      ]
     },
     "execution_count": 10,
     "metadata": {},
     "output_type": "execute_result"
    }
   ],
   "source": [
    "c1 == c2"
   ]
  },
  {
   "cell_type": "code",
   "execution_count": 11,
   "id": "bdae294c",
   "metadata": {},
   "outputs": [
    {
     "name": "stdout",
     "output_type": "stream",
     "text": [
      "jatinkatyal"
     ]
    },
    {
     "data": {
      "text/plain": [
       "<__main__.Ostream at 0x7fed409f8bb0>"
      ]
     },
     "execution_count": 11,
     "metadata": {},
     "output_type": "execute_result"
    }
   ],
   "source": [
    "class Ostream:\n",
    "    def __lshift__(self, other):\n",
    "        print(other, end = '')\n",
    "        return self\n",
    "    \n",
    "cout = Ostream()\n",
    "cout<<\"jatin\"<<\"katyal\""
   ]
  },
  {
   "cell_type": "code",
   "execution_count": 12,
   "id": "1621fac7",
   "metadata": {},
   "outputs": [],
   "source": [
    "class Dog:\n",
    "    kind = 'canine'   # class variable shared by all instances\n",
    "    \n",
    "    def __init__(self, name):\n",
    "        self.name = name   # instance variable unique to each instance"
   ]
  },
  {
   "cell_type": "code",
   "execution_count": 13,
   "id": "22bf179c",
   "metadata": {},
   "outputs": [],
   "source": [
    "a = Dog('tuffy')"
   ]
  },
  {
   "cell_type": "code",
   "execution_count": 14,
   "id": "71198e43",
   "metadata": {},
   "outputs": [
    {
     "data": {
      "text/plain": [
       "'canine'"
      ]
     },
     "execution_count": 14,
     "metadata": {},
     "output_type": "execute_result"
    }
   ],
   "source": [
    "a.kind"
   ]
  },
  {
   "cell_type": "code",
   "execution_count": 15,
   "id": "687e1264",
   "metadata": {},
   "outputs": [],
   "source": [
    "b = Dog('max')"
   ]
  },
  {
   "cell_type": "code",
   "execution_count": 16,
   "id": "67e38ed8",
   "metadata": {},
   "outputs": [],
   "source": [
    "b.kind = 'something'"
   ]
  },
  {
   "cell_type": "code",
   "execution_count": 17,
   "id": "9f162ca7",
   "metadata": {},
   "outputs": [
    {
     "data": {
      "text/plain": [
       "'something'"
      ]
     },
     "execution_count": 17,
     "metadata": {},
     "output_type": "execute_result"
    }
   ],
   "source": [
    "b.kind"
   ]
  },
  {
   "cell_type": "code",
   "execution_count": 18,
   "id": "fff2fa1c",
   "metadata": {},
   "outputs": [
    {
     "data": {
      "text/plain": [
       "'canine'"
      ]
     },
     "execution_count": 18,
     "metadata": {},
     "output_type": "execute_result"
    }
   ],
   "source": [
    "a.kind"
   ]
  },
  {
   "cell_type": "code",
   "execution_count": 19,
   "id": "944bb5d3",
   "metadata": {},
   "outputs": [],
   "source": [
    "class Dog:\n",
    "    tricks = []   # mistaken use of a class variable\n",
    "    \n",
    "    def __init__(self, name):\n",
    "        self.name = name\n",
    "        \n",
    "    def add_trick(self, trick):\n",
    "        self.tricks.append(trick)\n",
    "\n",
    "# tricks is a list, a mutable data structure\n",
    "# this memory is shared across all the instances\n",
    "# if we are mutating from one instance, it is reflected in other instance as well\n",
    "# this is because all tricks are pointing to same memory address\n",
    "# a.tricks, b.tricks and Dog.tricks are pointing to the same list in the memory\n",
    "# hence if we mutate it from one variable, it will be reflected in other variables as well\n",
    "# solution is to instantiate this tricks in each of the instance"
   ]
  },
  {
   "cell_type": "code",
   "execution_count": 20,
   "id": "5ce228e9",
   "metadata": {},
   "outputs": [],
   "source": [
    "a = Dog('bruno')"
   ]
  },
  {
   "cell_type": "code",
   "execution_count": 21,
   "id": "95a1cf81",
   "metadata": {},
   "outputs": [],
   "source": [
    "b = Dog('maxx')"
   ]
  },
  {
   "cell_type": "code",
   "execution_count": 22,
   "id": "463b51ad",
   "metadata": {},
   "outputs": [],
   "source": [
    "a.add_trick('fetch')"
   ]
  },
  {
   "cell_type": "code",
   "execution_count": 23,
   "id": "9ecffe9a",
   "metadata": {},
   "outputs": [],
   "source": [
    "a.add_trick('talk')"
   ]
  },
  {
   "cell_type": "code",
   "execution_count": 25,
   "id": "6dc11033",
   "metadata": {},
   "outputs": [
    {
     "data": {
      "text/plain": [
       "['fetch', 'talk']"
      ]
     },
     "execution_count": 25,
     "metadata": {},
     "output_type": "execute_result"
    }
   ],
   "source": [
    "a.tricks"
   ]
  },
  {
   "cell_type": "code",
   "execution_count": 26,
   "id": "e28b2b29",
   "metadata": {},
   "outputs": [
    {
     "data": {
      "text/plain": [
       "['fetch', 'talk']"
      ]
     },
     "execution_count": 26,
     "metadata": {},
     "output_type": "execute_result"
    }
   ],
   "source": [
    "b.tricks"
   ]
  },
  {
   "cell_type": "code",
   "execution_count": 27,
   "id": "eda3282e",
   "metadata": {},
   "outputs": [
    {
     "data": {
      "text/plain": [
       "140656968262528"
      ]
     },
     "execution_count": 27,
     "metadata": {},
     "output_type": "execute_result"
    }
   ],
   "source": [
    "id(a.tricks)"
   ]
  },
  {
   "cell_type": "code",
   "execution_count": 28,
   "id": "95a3de77",
   "metadata": {},
   "outputs": [
    {
     "data": {
      "text/plain": [
       "140656968262528"
      ]
     },
     "execution_count": 28,
     "metadata": {},
     "output_type": "execute_result"
    }
   ],
   "source": [
    "id(b.tricks)"
   ]
  },
  {
   "cell_type": "code",
   "execution_count": 29,
   "id": "88066a33",
   "metadata": {},
   "outputs": [
    {
     "data": {
      "text/plain": [
       "140656968262528"
      ]
     },
     "execution_count": 29,
     "metadata": {},
     "output_type": "execute_result"
    }
   ],
   "source": [
    "id(Dog.tricks)"
   ]
  },
  {
   "cell_type": "code",
   "execution_count": 30,
   "id": "64882035",
   "metadata": {},
   "outputs": [],
   "source": [
    "class Dog:\n",
    "    \n",
    "    def __init__(self, name):\n",
    "        self.name = name\n",
    "        self.tricks = []\n",
    "        \n",
    "    def add_trick(self, trick):\n",
    "        self.tricks.append(trick)"
   ]
  },
  {
   "cell_type": "code",
   "execution_count": 31,
   "id": "21df5ca2",
   "metadata": {},
   "outputs": [],
   "source": [
    "a = Dog('bruno')"
   ]
  },
  {
   "cell_type": "code",
   "execution_count": 32,
   "id": "c6ef0050",
   "metadata": {},
   "outputs": [],
   "source": [
    "b = Dog('maxx')"
   ]
  },
  {
   "cell_type": "code",
   "execution_count": 33,
   "id": "8478c9ae",
   "metadata": {},
   "outputs": [],
   "source": [
    "a.add_trick('fetch')"
   ]
  },
  {
   "cell_type": "code",
   "execution_count": 34,
   "id": "b74b1722",
   "metadata": {},
   "outputs": [],
   "source": [
    "a.add_trick('talk')"
   ]
  },
  {
   "cell_type": "code",
   "execution_count": 35,
   "id": "ab5d0c2a",
   "metadata": {},
   "outputs": [
    {
     "data": {
      "text/plain": [
       "['fetch', 'talk']"
      ]
     },
     "execution_count": 35,
     "metadata": {},
     "output_type": "execute_result"
    }
   ],
   "source": [
    "a.tricks"
   ]
  },
  {
   "cell_type": "code",
   "execution_count": 36,
   "id": "72641d14",
   "metadata": {},
   "outputs": [
    {
     "data": {
      "text/plain": [
       "[]"
      ]
     },
     "execution_count": 36,
     "metadata": {},
     "output_type": "execute_result"
    }
   ],
   "source": [
    "b.tricks"
   ]
  },
  {
   "cell_type": "code",
   "execution_count": 37,
   "id": "ed1ba70c",
   "metadata": {},
   "outputs": [
    {
     "data": {
      "text/plain": [
       "140656968243584"
      ]
     },
     "execution_count": 37,
     "metadata": {},
     "output_type": "execute_result"
    }
   ],
   "source": [
    "id(a.tricks)"
   ]
  },
  {
   "cell_type": "code",
   "execution_count": 38,
   "id": "3033265d",
   "metadata": {},
   "outputs": [
    {
     "data": {
      "text/plain": [
       "140655347295360"
      ]
     },
     "execution_count": 38,
     "metadata": {},
     "output_type": "execute_result"
    }
   ],
   "source": [
    "id(b.tricks)"
   ]
  },
  {
   "cell_type": "markdown",
   "id": "02b40dd2",
   "metadata": {},
   "source": [
    "### Inheritance"
   ]
  },
  {
   "cell_type": "code",
   "execution_count": 1,
   "id": "4fc5afa1",
   "metadata": {},
   "outputs": [
    {
     "name": "stdout",
     "output_type": "stream",
     "text": [
      "(Initialised SchoolMember: Mr. Ujjwal)\n",
      "(Initialised Teacher: Mr. Ujjwal)\n",
      "Name: \"Mr. Ujjwal\" Age: \"40\" Salary: \"30000\"\n",
      "(Initialised SchoolMember: Nikhil)\n",
      "(Initialised Student: Nikhil)\n",
      "Name: \"Nikhil\" Age: \"25\" Marks: \"75\"\n"
     ]
    }
   ],
   "source": [
    "# python only supports overriding and not overloading\n",
    "# in overloading, all the methods exist currently\n",
    "# in overriding, one method replces or extends the another\n",
    "# in python, we use overriding to do different behaviours\n",
    "# like we use dunders, using the dunder is saying that\n",
    "# we are overriding the default behaviour of dunder and we are writing our own logic\n",
    "# while overriding, python replaces the previous method with the current method\n",
    "class SchoolMember:\n",
    "    '''Represents any school member'''\n",
    "    def __init__(self, name, age):\n",
    "        self.name = name\n",
    "        self.age = age\n",
    "        print('(Initialised SchoolMember: {})'.format(self.name))\n",
    "    \n",
    "    def tell(self):\n",
    "        '''Tell my details'''\n",
    "        print('Name: \"{}\" Age: \"{}\"'.format(self.name, self.age), end = \" \")\n",
    "        \n",
    "# inheriting the behaviour of SchoolMember\n",
    "# to inherit a class in python we use parantheses and give the name of the base class \n",
    "class Teacher(SchoolMember):\n",
    "    '''Represents a teacher'''\n",
    "    def __init__(self, name, age, salary):\n",
    "        SchoolMember.__init__(self, name, age) \n",
    "        # we can use the above line or use super keyword -> super().__init__(name, age)\n",
    "        # super method will go the base class, find the __init__ method \n",
    "        # and call it with the given arguments\n",
    "        # we call super method to get the object of base class\n",
    "        # calling the super method returned the object of SchoolMember class\n",
    "        self.salary = salary\n",
    "        print('(Initialised Teacher: {})'.format(self.name))\n",
    "        \n",
    "    def tell(self):\n",
    "        SchoolMember.tell(self)  # or super().tell()\n",
    "        print('Salary: \"{:d}\"'.format(self.salary))\n",
    "        \n",
    "class Student(SchoolMember):\n",
    "    '''Represents a student'''\n",
    "    def __init__(self, name, age, marks):\n",
    "        SchoolMember.__init__(self, name, age)\n",
    "        self.marks = marks \n",
    "        print('(Initialised Student: {})'.format(self.name))\n",
    "        \n",
    "    def tell(self):\n",
    "        SchoolMember.tell(self)\n",
    "        print('Marks: \"{:d}\"'.format(self.marks))\n",
    "        \n",
    "t = Teacher('Mr. Ujjwal', 40, 30000)\n",
    "t.tell()\n",
    "s = Student('Nikhil', 25, 75)\n",
    "s.tell()"
   ]
  },
  {
   "cell_type": "code",
   "execution_count": 1,
   "id": "c139257f",
   "metadata": {},
   "outputs": [],
   "source": [
    "class A:\n",
    "    x = 10\n",
    "class B(A):\n",
    "    pass\n",
    "class C(A):\n",
    "    x = 5\n",
    "class D(C):\n",
    "    pass\n",
    "class E(B,D):\n",
    "    pass"
   ]
  },
  {
   "cell_type": "code",
   "execution_count": 2,
   "id": "6ae406a3",
   "metadata": {},
   "outputs": [
    {
     "data": {
      "text/plain": [
       "5"
      ]
     },
     "execution_count": 2,
     "metadata": {},
     "output_type": "execute_result"
    }
   ],
   "source": [
    "E.x"
   ]
  },
  {
   "cell_type": "code",
   "execution_count": 3,
   "id": "98a0650c",
   "metadata": {},
   "outputs": [
    {
     "data": {
      "text/plain": [
       "(__main__.E, __main__.B, __main__.D, __main__.C, __main__.A, object)"
      ]
     },
     "execution_count": 3,
     "metadata": {},
     "output_type": "execute_result"
    }
   ],
   "source": [
    "# we can check out the order of method resolution using a meta object called __mro__\n",
    "E.__mro__\n",
    "# this returns a tuple that in which order attributes will be found in python"
   ]
  },
  {
   "cell_type": "code",
   "execution_count": null,
   "id": "c0507b6b",
   "metadata": {},
   "outputs": [],
   "source": []
  }
 ],
 "metadata": {
  "kernelspec": {
   "display_name": "Python 3 (ipykernel)",
   "language": "python",
   "name": "python3"
  },
  "language_info": {
   "codemirror_mode": {
    "name": "ipython",
    "version": 3
   },
   "file_extension": ".py",
   "mimetype": "text/x-python",
   "name": "python",
   "nbconvert_exporter": "python",
   "pygments_lexer": "ipython3",
   "version": "3.8.9"
  }
 },
 "nbformat": 4,
 "nbformat_minor": 5
}
