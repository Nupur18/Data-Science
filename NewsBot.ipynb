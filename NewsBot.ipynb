{
 "cells": [
  {
   "cell_type": "code",
   "execution_count": 5,
   "id": "9a5a5505",
   "metadata": {},
   "outputs": [],
   "source": [
    "# GOOGLE_APPLICATION_CREDENTIALS contains the path to credentials file which is client.json\n",
    "import os \n",
    "os.environ[\"GOOGLE_APPLICATION_CREDENTIALS\"] = \"client.json\"\n",
    "\n",
    "import dialogflow_v2 as dialogflow\n",
    "# this function will create a dialogflow seesion client \n",
    "# using which we can get answers to different queries that are posted to dialogflow agent\n",
    "dialogflow_session_client = dialogflow.SessionsClient() \n",
    "PROJECT_ID = \"newsbot-yirn\""
   ]
  },
  {
   "cell_type": "code",
   "execution_count": 9,
   "id": "179c9f4b",
   "metadata": {},
   "outputs": [],
   "source": [
    "# utility function which will detect intent from the text\n",
    "def detect_intent_from_text(text, session_id, language_code = 'en') : \n",
    "    session = dialogflow_session_client.session_path(PROJECT_ID, session_id)\n",
    "    text_input = dialogflow.types.TextInput(text=text, language_code=language_code) \n",
    "    query_input = dialogflow.types.QueryInput(text=text_input)\n",
    "    response = dialogflow_session_client.detect_intent(session=session, query_input=query_input)\n",
    "    return response.query_result"
   ]
  },
  {
   "cell_type": "code",
   "execution_count": 10,
   "id": "bd246e0b",
   "metadata": {},
   "outputs": [],
   "source": [
    "# 12345 is session_id\n",
    "# dialogflow allows us to have session_id for each user\n",
    "response = detect_intent_from_text(\"Hello!\", 12345)"
   ]
  },
  {
   "cell_type": "code",
   "execution_count": 11,
   "id": "099c4db1",
   "metadata": {},
   "outputs": [
    {
     "data": {
      "text/plain": [
       "query_text: \"Hello!\"\n",
       "action: \"input.welcome\"\n",
       "parameters {\n",
       "}\n",
       "all_required_params_present: true\n",
       "fulfillment_text: \"Hello! How can I help you?\"\n",
       "fulfillment_messages {\n",
       "  text {\n",
       "    text: \"Hello! How can I help you?\"\n",
       "  }\n",
       "}\n",
       "intent {\n",
       "  name: \"projects/newsbot-yirn/agent/intents/da2d9ee5-5883-4959-8537-50dfae0991f0\"\n",
       "  display_name: \"Default Welcome Intent\"\n",
       "}\n",
       "intent_detection_confidence: 1.0\n",
       "language_code: \"en\""
      ]
     },
     "execution_count": 11,
     "metadata": {},
     "output_type": "execute_result"
    }
   ],
   "source": [
    "response"
   ]
  },
  {
   "cell_type": "code",
   "execution_count": 12,
   "id": "88bd6a81",
   "metadata": {},
   "outputs": [],
   "source": [
    "response = detect_intent_from_text(\"Show me sports news from India in Hindi\", 12345)"
   ]
  },
  {
   "cell_type": "code",
   "execution_count": 13,
   "id": "d0a14900",
   "metadata": {},
   "outputs": [
    {
     "data": {
      "text/plain": [
       "query_text: \"Show me sports news from India in Hindi\"\n",
       "parameters {\n",
       "  fields {\n",
       "    key: \"geo-country\"\n",
       "    value {\n",
       "      string_value: \"India\"\n",
       "    }\n",
       "  }\n",
       "  fields {\n",
       "    key: \"language\"\n",
       "    value {\n",
       "      string_value: \"Hindi\"\n",
       "    }\n",
       "  }\n",
       "  fields {\n",
       "    key: \"topic\"\n",
       "    value {\n",
       "      string_value: \"Sports\"\n",
       "    }\n",
       "  }\n",
       "}\n",
       "all_required_params_present: true\n",
       "fulfillment_messages {\n",
       "  text {\n",
       "    text: \"\"\n",
       "  }\n",
       "}\n",
       "intent {\n",
       "  name: \"projects/newsbot-yirn/agent/intents/038b51f2-be91-45bc-8b10-37e20272a060\"\n",
       "  display_name: \"get_news\"\n",
       "}\n",
       "intent_detection_confidence: 0.7302417755126953\n",
       "language_code: \"en\""
      ]
     },
     "execution_count": 13,
     "metadata": {},
     "output_type": "execute_result"
    }
   ],
   "source": [
    "response"
   ]
  },
  {
   "cell_type": "code",
   "execution_count": 14,
   "id": "7846aa0b",
   "metadata": {},
   "outputs": [
    {
     "data": {
      "text/plain": [
       "{'geo-country': 'India', 'language': 'Hindi', 'topic': 'Sports'}"
      ]
     },
     "execution_count": 14,
     "metadata": {},
     "output_type": "execute_result"
    }
   ],
   "source": [
    "dict(response.parameters)"
   ]
  },
  {
   "cell_type": "code",
   "execution_count": 16,
   "id": "8cc30f6c",
   "metadata": {},
   "outputs": [
    {
     "data": {
      "text/plain": [
       "'get_news'"
      ]
     },
     "execution_count": 16,
     "metadata": {},
     "output_type": "execute_result"
    }
   ],
   "source": [
    "response.intent.display_name"
   ]
  },
  {
   "cell_type": "code",
   "execution_count": 2,
   "id": "a9a249a4",
   "metadata": {},
   "outputs": [],
   "source": [
    "from gnewsclient import gnewsclient"
   ]
  },
  {
   "cell_type": "code",
   "execution_count": 3,
   "id": "37b10284",
   "metadata": {},
   "outputs": [],
   "source": [
    "# to create a client which fetches news\n",
    "client = gnewsclient.NewsClient()"
   ]
  },
  {
   "cell_type": "code",
   "execution_count": 4,
   "id": "9df3e465",
   "metadata": {},
   "outputs": [
    {
     "data": {
      "text/plain": [
       "{'location': 'United States', 'language': 'english', 'topic': 'Top Stories'}"
      ]
     },
     "execution_count": 4,
     "metadata": {},
     "output_type": "execute_result"
    }
   ],
   "source": [
    "# gives the current configurations that we have\n",
    "client.get_config()"
   ]
  },
  {
   "cell_type": "code",
   "execution_count": 6,
   "id": "95f9ea4f",
   "metadata": {},
   "outputs": [
    {
     "data": {
      "text/plain": [
       "['Top Stories',\n",
       " 'World',\n",
       " 'Nation',\n",
       " 'Business',\n",
       " 'Technology',\n",
       " 'Entertainment',\n",
       " 'Sports',\n",
       " 'Science',\n",
       " 'Health']"
      ]
     },
     "execution_count": 6,
     "metadata": {},
     "output_type": "execute_result"
    }
   ],
   "source": [
    "# to get all the available topics\n",
    "client.topics"
   ]
  },
  {
   "cell_type": "code",
   "execution_count": 7,
   "id": "913ded01",
   "metadata": {},
   "outputs": [
    {
     "data": {
      "text/plain": [
       "['Australia',\n",
       " 'Botswana',\n",
       " 'Canada ',\n",
       " 'Ethiopia',\n",
       " 'Ghana',\n",
       " 'India ',\n",
       " 'Indonesia',\n",
       " 'Ireland',\n",
       " 'Israel ',\n",
       " 'Kenya',\n",
       " 'Latvia',\n",
       " 'Malaysia',\n",
       " 'Namibia',\n",
       " 'New Zealand',\n",
       " 'Nigeria',\n",
       " 'Pakistan',\n",
       " 'Philippines',\n",
       " 'Singapore',\n",
       " 'South Africa',\n",
       " 'Tanzania',\n",
       " 'Uganda',\n",
       " 'United Kingdom',\n",
       " 'United States',\n",
       " 'Zimbabwe',\n",
       " 'Czech Republic',\n",
       " 'Germany',\n",
       " 'Austria',\n",
       " 'Switzerland',\n",
       " 'Argentina',\n",
       " 'Chile',\n",
       " 'Colombia',\n",
       " 'Cuba',\n",
       " 'Mexico',\n",
       " 'Peru',\n",
       " 'Venezuela',\n",
       " 'Belgium ',\n",
       " 'France',\n",
       " 'Morocco',\n",
       " 'Senegal',\n",
       " 'Italy',\n",
       " 'Lithuania',\n",
       " 'Hungary',\n",
       " 'Netherlands',\n",
       " 'Norway',\n",
       " 'Poland',\n",
       " 'Brazil',\n",
       " 'Portugal',\n",
       " 'Romania',\n",
       " 'Slovakia',\n",
       " 'Slovenia',\n",
       " 'Sweden',\n",
       " 'Vietnam',\n",
       " 'Turkey',\n",
       " 'Greece',\n",
       " 'Bulgaria',\n",
       " 'Russia',\n",
       " 'Ukraine ',\n",
       " 'Serbia',\n",
       " 'United Arab Emirates',\n",
       " 'Saudi Arabia',\n",
       " 'Lebanon',\n",
       " 'Egypt',\n",
       " 'Bangladesh',\n",
       " 'Thailand',\n",
       " 'China',\n",
       " 'Taiwan',\n",
       " 'Hong Kong',\n",
       " 'Japan',\n",
       " 'Republic of Korea']"
      ]
     },
     "execution_count": 7,
     "metadata": {},
     "output_type": "execute_result"
    }
   ],
   "source": [
    "# to get all the available locations\n",
    "client.locations"
   ]
  },
  {
   "cell_type": "code",
   "execution_count": 8,
   "id": "24a95644",
   "metadata": {},
   "outputs": [
    {
     "data": {
      "text/plain": [
       "['english',\n",
       " 'indonesian',\n",
       " 'czech',\n",
       " 'german',\n",
       " 'spanish',\n",
       " 'french',\n",
       " 'italian',\n",
       " 'latvian',\n",
       " 'lithuanian',\n",
       " 'hungarian',\n",
       " 'dutch',\n",
       " 'norwegian',\n",
       " 'polish',\n",
       " 'portuguese brasil',\n",
       " 'portuguese portugal',\n",
       " 'romanian',\n",
       " 'slovak',\n",
       " 'slovenian',\n",
       " 'swedish',\n",
       " 'vietnamese',\n",
       " 'turkish',\n",
       " 'greek',\n",
       " 'bulgarian',\n",
       " 'russian',\n",
       " 'serbian',\n",
       " 'ukrainian',\n",
       " 'hebrew',\n",
       " 'arabic',\n",
       " 'marathi',\n",
       " 'hindi',\n",
       " 'bengali',\n",
       " 'tamil',\n",
       " 'telugu',\n",
       " 'malyalam',\n",
       " 'thai',\n",
       " 'chinese simplified',\n",
       " 'chinese traditional',\n",
       " 'japanese',\n",
       " 'korean']"
      ]
     },
     "execution_count": 8,
     "metadata": {},
     "output_type": "execute_result"
    }
   ],
   "source": [
    "# to get all the available languages\n",
    "client.languages"
   ]
  },
  {
   "cell_type": "code",
   "execution_count": 9,
   "id": "c20e4934",
   "metadata": {},
   "outputs": [],
   "source": [
    "client.location = 'India'\n",
    "client.language = 'hindi'\n",
    "client.topic = 'Sports'"
   ]
  },
  {
   "cell_type": "code",
   "execution_count": 10,
   "id": "7ed4ca56",
   "metadata": {},
   "outputs": [
    {
     "data": {
      "text/plain": [
       "{'location': 'India', 'language': 'hindi', 'topic': 'Sports'}"
      ]
     },
     "execution_count": 10,
     "metadata": {},
     "output_type": "execute_result"
    }
   ],
   "source": [
    "client.get_config()"
   ]
  },
  {
   "cell_type": "code",
   "execution_count": 11,
   "id": "c5a37329",
   "metadata": {},
   "outputs": [
    {
     "data": {
      "text/plain": [
       "[{'title': 'T20 World Cup: पूर्व पाकिस्तानी क्रिकेटर बोले- भारतीय ड्रेसिंग रूम का माहौल ठीक नहीं, - ABP न्यूज़',\n",
       "  'link': 'https://news.google.com/__i/rss/rd/articles/CBMingFodHRwczovL3d3dy5hYnBsaXZlLmNvbS9zcG9ydHMvY3JpY2tldC90MjAtd29ybGQtY3VwLWZvcm1lci1wYWtpc3Rhbi1jcmlja2V0ZXItbXVzaHRhcS1haG1lZC1zYXlzLXZpcmF0LWtvaGxpLXdpbGwtc29vbi1yZXRpcmUtZnJvbS10MjAtaW50ZXJuYXRpb25hbHMtMTk5NTM0MdIBAA?oc=5',\n",
       "  'media': None},\n",
       " {'title': 'T20 WC ENG vs NZ Semi-Final: वर्ल्ड कप फाइनल का बदला ले पाएंगे कीवी..? आज फिर इंग्लैंड से भिड़ेंगे - Aaj Tak',\n",
       "  'link': 'https://news.google.com/__i/rss/rd/articles/CBMimQFodHRwczovL3d3dy5hYWp0YWsuaW4vc3BvcnRzL3QyMC13b3JsZC1jdXAtMjAyMS9zdG9yeS90MjAtd29ybGQtY3VwLTFzdC1zZW1pLWZpbmFsLWFidS1kaGFiaS1lbmdsYW5kLXZzLW5ldy16ZWFsYW5kLW1hdGNoLXByZXZpZXctdHNwby0xMzU0ODIyLTIwMjEtMTEtMTDSAQA?oc=5',\n",
       "  'media': None},\n",
       " {'title': 'रवि शास्त्री ने मुख्य कोच का पद छोड़ने के बाद बताया, भारतीय टीम में क्या है कमी - दैनिक जागरण (Dainik Jagran)',\n",
       "  'link': 'https://news.google.com/__i/rss/rd/articles/CBMiigFodHRwczovL3d3dy5qYWdyYW4uY29tL2NyaWNrZXQvYXBuaS1iYWF0LXJhdmktc2hhc3RyaS1zYXlzLXVuZm9ydHVuYXRlbHktaW5kaWEtZG9lcy1ub3QtaGF2ZS10b28tbWFueS1hbGxyb3VuZGVycy1pbi10b3Atc2l4LTIyMTkzMjc1Lmh0bWzSAQA?oc=5',\n",
       "  'media': None},\n",
       " {'title': 'IND vs NZ: रोहित शर्मा की टीम से बाहर होने के बाद बोले विराट कोहली-भारतीय क्रिकेट इतिहास में याद रखा जाएगा - News18 हिंदी',\n",
       "  'link': 'https://news.google.com/__i/rss/rd/articles/CBMiogFodHRwczovL2hpbmRpLm5ld3MxOC5jb20vbmV3cy9zcG9ydHMvY3JpY2tldC1pbmRpYS12cy1uZXctemVhbGFuZC12aXJhdC1rb2hsaS1lbW90aW9uYWwtbWVzc2FnZS1mb3ItcmF2aS1zaGFzdHJpLWFmdGVyLXJvaGl0LXNoYXJtYS1uYW1lZC10MjAtY2FwdGFpbi0zODQyMTE4Lmh0bWzSAQA?oc=5',\n",
       "  'media': None},\n",
       " {'title': 'T20 क्लासिक अप्रत्याशित रहा | इंग्लैंड बनाम भारत 2014 - हाइलाइट्स - England & Wales Cricket Board',\n",
       "  'link': 'https://news.google.com/__i/rss/rd/articles/CBMiK2h0dHBzOi8vd3d3LnlvdXR1YmUuY29tL3dhdGNoP3Y9ZWZocXdLY19COEnSAQA?oc=5',\n",
       "  'media': None},\n",
       " {'title': 'IND vs NZ: हार्दिक पंड्या की टीम इंडिया में नो एंट्री ! अब वापसी के लिए करने होंगे दो काम - News18 हिंदी',\n",
       "  'link': 'https://news.google.com/__i/rss/rd/articles/CBMioAFodHRwczovL2hpbmRpLm5ld3MxOC5jb20vbmV3cy9zcG9ydHMvY3JpY2tldC1oYXJkaWstcGFuZHlhLWNvbWViYWNrLWluLXRlYW0taW5kaWEtaXMtZGlmZmljdWx0LXNlbGVjdG9ycy13aWxsLWFzay1oaW0tdG8tcHJvdmUtaGlzLWZvcm0tYW5kLWZpdG5lc3MtMzg0MjAzOS5odG1s0gEA?oc=5',\n",
       "  'media': None},\n",
       " {'title': 'रवि शास्त्री की विदाई पर वसीम अकरम ने लिखा इमोशनल पोस्ट, बोले- मेरा दिल मेरे दोस्\\u200dत शास्\\u200dत्री के साथ है - Hindustan',\n",
       "  'link': 'https://news.google.com/__i/rss/rd/articles/CBMijwFodHRwczovL3d3dy5saXZlaGluZHVzdGFuLmNvbS9jcmlja2V0L3N0b3J5LW15LWdvb2QtZnJpZW5kLXNoYXoteW91LWhhdmUtZG9uZS13b25kZXJzLXdhc2ltLWFrcmFtLXNwZWNpYWwtbWVzc2FnZS1mb3ItcmF2aS1zaGFzdHJpLTUwNDE4MDUuaHRtbNIBkwFodHRwczovL3d3dy5saXZlaGluZHVzdGFuLmNvbS9jcmlja2V0L3N0b3J5LW15LWdvb2QtZnJpZW5kLXNoYXoteW91LWhhdmUtZG9uZS13b25kZXJzLXdhc2ltLWFrcmFtLXNwZWNpYWwtbWVzc2FnZS1mb3ItcmF2aS1zaGFzdHJpLTUwNDE4MDUuYW1wLmh0bWw?oc=5',\n",
       "  'media': None},\n",
       " {'title': 'टीम विराट नहीं, अब टीम रोहित....कैसे भारतीय क्रिकेट पर पड़ेगी राहुल द्रविड़ की छाप, समझ\\u200dिए पूरा प्\\u200dलान - Navbharat Times',\n",
       "  'link': 'https://news.google.com/__i/rss/rd/articles/CBMioQFodHRwczovL25hdmJoYXJhdHRpbWVzLmluZGlhdGltZXMuY29tL3Nwb3J0cy9jcmlja2V0L2NyaWNrZXQtbmV3cy9ob3ctcm9oaXQtc2hhcm1hLWFuZC1yYWh1bC1kcmF2aWQtY2FuLXRha2UtaW5kaWFuLWNyaWNrZXQtdGVhbS1mb3J3YXJkL2FydGljbGVzaG93Lzg3NjE3ODYwLmNtc9IBAA?oc=5',\n",
       "  'media': None},\n",
       " {'title': 'IND Vs NZ T20 Jaipur: नियमों पर नहीं दिया ध्यान और ले लिया टिकट, तो नहीं देख पाएंगे क्रिकेट मैच - News18 हिंदी',\n",
       "  'link': 'https://news.google.com/__i/rss/rd/articles/CBMiqAFodHRwczovL2hpbmRpLm5ld3MxOC5jb20vbmV3cy9yYWphc3RoYW4vamFpcHVyLWluZGlhLXZzLW5ldy16ZWFsYW5kLXQyMC1qYWlwdXItdGlja2V0cy1vbmxpbmUtYm9va2luZy1mcm9tLTExLW5vdmVtYmVyLXJ0cGNyLXJlcG9ydC1jaGVjay1mdWxsLWRldGFpbHMtcmpzci0zODQxNzQ5Lmh0bWzSAQA?oc=5',\n",
       "  'media': None},\n",
       " {'title': 'टीम इंडिया के सेलेक्टर्स पर भड़के हरभजन सिंह, इस खिलाड़ी को नहीं चुनने पर सरेआम कहा- शर्म करो - Zee News Hindi',\n",
       "  'link': 'https://news.google.com/__i/rss/rd/articles/CBMikgFodHRwczovL3plZW5ld3MuaW5kaWEuY29tL2hpbmRpL3Nwb3J0cy9jcmlja2V0L3RlYW0taW5kaWEtY3JpY2tldGVycy1yaXNoYWJoLXBhbnQtc2VsZWN0b3JzLXQyMC1zZXJpZXMtbWF5YW5rLWFnYXJ3YWwtaW5kaWEtdnMtbmV3LXplYWxhbmQvMTAyNDQyNtIBAA?oc=5',\n",
       "  'media': None}]"
      ]
     },
     "execution_count": 11,
     "metadata": {},
     "output_type": "execute_result"
    }
   ],
   "source": [
    "# to get the news\n",
    "client.get_news()"
   ]
  },
  {
   "cell_type": "code",
   "execution_count": null,
   "id": "0efe4bf0",
   "metadata": {},
   "outputs": [],
   "source": []
  }
 ],
 "metadata": {
  "kernelspec": {
   "display_name": "Python 3 (ipykernel)",
   "language": "python",
   "name": "python3"
  },
  "language_info": {
   "codemirror_mode": {
    "name": "ipython",
    "version": 3
   },
   "file_extension": ".py",
   "mimetype": "text/x-python",
   "name": "python",
   "nbconvert_exporter": "python",
   "pygments_lexer": "ipython3",
   "version": "3.8.9"
  }
 },
 "nbformat": 4,
 "nbformat_minor": 5
}
