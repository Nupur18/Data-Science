{
 "cells": [
  {
   "cell_type": "markdown",
   "id": "ea6c6b75",
   "metadata": {},
   "source": [
    "### Iteration Protocol"
   ]
  },
  {
   "cell_type": "markdown",
   "id": "12dcc58d",
   "metadata": {},
   "source": [
    "- iteration : repitition of a process\n",
    "- iterable : a Python object which can be iterated upon like list, tuple, dictionary\n",
    "- iterator : a Python object to support iteration over an iterable, it returns single objet one by one so that we can perform some task over it\n",
    "- iter() : when we pass an iterable to iter() function, it returns us the iterator\n",
    "- next() : the iterator object can be passed to a next function which will return us the elements until it runs out of elements and stops the iteration"
   ]
  },
  {
   "cell_type": "code",
   "execution_count": 1,
   "id": "533bfb85",
   "metadata": {},
   "outputs": [],
   "source": [
    "x = [1,2,3]"
   ]
  },
  {
   "cell_type": "code",
   "execution_count": 2,
   "id": "da22579a",
   "metadata": {},
   "outputs": [],
   "source": [
    "x_iter = iter(x)"
   ]
  },
  {
   "cell_type": "code",
   "execution_count": 3,
   "id": "65c21708",
   "metadata": {},
   "outputs": [
    {
     "data": {
      "text/plain": [
       "<list_iterator at 0x7fa0b0eed460>"
      ]
     },
     "execution_count": 3,
     "metadata": {},
     "output_type": "execute_result"
    }
   ],
   "source": [
    "x_iter"
   ]
  },
  {
   "cell_type": "code",
   "execution_count": 4,
   "id": "4986a43b",
   "metadata": {},
   "outputs": [
    {
     "data": {
      "text/plain": [
       "1"
      ]
     },
     "execution_count": 4,
     "metadata": {},
     "output_type": "execute_result"
    }
   ],
   "source": [
    "next(x_iter)"
   ]
  },
  {
   "cell_type": "code",
   "execution_count": 5,
   "id": "98ed4acc",
   "metadata": {},
   "outputs": [
    {
     "data": {
      "text/plain": [
       "2"
      ]
     },
     "execution_count": 5,
     "metadata": {},
     "output_type": "execute_result"
    }
   ],
   "source": [
    "next(x_iter)"
   ]
  },
  {
   "cell_type": "code",
   "execution_count": 6,
   "id": "9dcc4e6d",
   "metadata": {},
   "outputs": [
    {
     "data": {
      "text/plain": [
       "3"
      ]
     },
     "execution_count": 6,
     "metadata": {},
     "output_type": "execute_result"
    }
   ],
   "source": [
    "next(x_iter)"
   ]
  },
  {
   "cell_type": "code",
   "execution_count": 7,
   "id": "fda9fbaf",
   "metadata": {},
   "outputs": [
    {
     "ename": "StopIteration",
     "evalue": "",
     "output_type": "error",
     "traceback": [
      "\u001b[0;31m---------------------------------------------------------------------------\u001b[0m",
      "\u001b[0;31mStopIteration\u001b[0m                             Traceback (most recent call last)",
      "\u001b[0;32m/var/folders/82/h9b1wq453dbd802y_2yd_0g00000gn/T/ipykernel_1379/3258731098.py\u001b[0m in \u001b[0;36m<module>\u001b[0;34m\u001b[0m\n\u001b[0;32m----> 1\u001b[0;31m \u001b[0mnext\u001b[0m\u001b[0;34m(\u001b[0m\u001b[0mx_iter\u001b[0m\u001b[0;34m)\u001b[0m\u001b[0;34m\u001b[0m\u001b[0;34m\u001b[0m\u001b[0m\n\u001b[0m",
      "\u001b[0;31mStopIteration\u001b[0m: "
     ]
    }
   ],
   "source": [
    "# when we reach the end of iterable and call next(), it will raise StopIteration error\n",
    "next(x_iter)"
   ]
  },
  {
   "cell_type": "markdown",
   "id": "b36c6952",
   "metadata": {},
   "source": [
    "#### The **iteration protocol** is a fancy term meaning \"how iterables actually work in Python\"\n",
    "1. For a class object to be an iterable \n",
    "   - can be passed to the iter function to get an iterator for them\n",
    "2. For any iterator\n",
    "   - can be passed to the next function which gives their next item or raises StopIteration\n",
    "   - return themselves when passed to the iter function"
   ]
  },
  {
   "cell_type": "code",
   "execution_count": 8,
   "id": "3d7b9e45",
   "metadata": {},
   "outputs": [],
   "source": [
    "# this class is both iterable and iterator\n",
    "class yrange:\n",
    "    # n is the number upto which we want the range\n",
    "    def __init__(self, n):\n",
    "        self.i = 0   # i is the iterator\n",
    "        self.n = n\n",
    "        \n",
    "    # to make this class iterable, \n",
    "    # we have to implement a magic function called iter which returns the iterator\n",
    "    # here self.i is the iterator and yrange is its enclosing class\n",
    "    # yrange is both iterable and iterator\n",
    "    # iter method makes our class iterable\n",
    "    def __iter__(self):\n",
    "        return self\n",
    "    \n",
    "    # to iterate over the class elements using the iterator\n",
    "    # next method should be implemented by the iterator\n",
    "    def __next__(self):\n",
    "        if self.i < self.n:\n",
    "            i = self.i\n",
    "            self.i += 1\n",
    "            return i\n",
    "        else:\n",
    "            raise StopIteration()"
   ]
  },
  {
   "cell_type": "code",
   "execution_count": 9,
   "id": "7ad3d366",
   "metadata": {},
   "outputs": [
    {
     "name": "stdout",
     "output_type": "stream",
     "text": [
      "0\n",
      "1\n",
      "2\n",
      "3\n",
      "4\n"
     ]
    }
   ],
   "source": [
    "for x in yrange(5) :\n",
    "    print(x)"
   ]
  },
  {
   "cell_type": "code",
   "execution_count": 23,
   "id": "f38283be",
   "metadata": {},
   "outputs": [],
   "source": [
    "y = yrange(5)  # y is iterable object"
   ]
  },
  {
   "cell_type": "code",
   "execution_count": 24,
   "id": "87341c45",
   "metadata": {},
   "outputs": [
    {
     "data": {
      "text/plain": [
       "[0, 1, 2, 3, 4]"
      ]
     },
     "execution_count": 24,
     "metadata": {},
     "output_type": "execute_result"
    }
   ],
   "source": [
    "list(y)"
   ]
  },
  {
   "cell_type": "code",
   "execution_count": 25,
   "id": "7078d7b1",
   "metadata": {},
   "outputs": [
    {
     "data": {
      "text/plain": [
       "[]"
      ]
     },
     "execution_count": 25,
     "metadata": {},
     "output_type": "execute_result"
    }
   ],
   "source": [
    "# yrange can be consumed only once as iterable and iterator are same\n",
    "list(y)"
   ]
  },
  {
   "cell_type": "code",
   "execution_count": 11,
   "id": "e1ae5680",
   "metadata": {},
   "outputs": [],
   "source": [
    "y_iter = iter(y) "
   ]
  },
  {
   "cell_type": "code",
   "execution_count": 12,
   "id": "8d125df1",
   "metadata": {},
   "outputs": [
    {
     "data": {
      "text/plain": [
       "<__main__.yrange at 0x7fa0b0ecedf0>"
      ]
     },
     "execution_count": 12,
     "metadata": {},
     "output_type": "execute_result"
    }
   ],
   "source": [
    "y_iter   # both iterable and iterator are same in this case, that's why iterator returned yrange"
   ]
  },
  {
   "cell_type": "code",
   "execution_count": 13,
   "id": "98c68087",
   "metadata": {},
   "outputs": [
    {
     "data": {
      "text/plain": [
       "0"
      ]
     },
     "execution_count": 13,
     "metadata": {},
     "output_type": "execute_result"
    }
   ],
   "source": [
    "next(y_iter)"
   ]
  },
  {
   "cell_type": "code",
   "execution_count": 14,
   "id": "76cb228b",
   "metadata": {},
   "outputs": [
    {
     "data": {
      "text/plain": [
       "1"
      ]
     },
     "execution_count": 14,
     "metadata": {},
     "output_type": "execute_result"
    }
   ],
   "source": [
    "next(y_iter)"
   ]
  },
  {
   "cell_type": "code",
   "execution_count": 15,
   "id": "f6aa1c40",
   "metadata": {},
   "outputs": [
    {
     "data": {
      "text/plain": [
       "2"
      ]
     },
     "execution_count": 15,
     "metadata": {},
     "output_type": "execute_result"
    }
   ],
   "source": [
    "next(y_iter)"
   ]
  },
  {
   "cell_type": "code",
   "execution_count": 16,
   "id": "3057a7d1",
   "metadata": {},
   "outputs": [
    {
     "data": {
      "text/plain": [
       "3"
      ]
     },
     "execution_count": 16,
     "metadata": {},
     "output_type": "execute_result"
    }
   ],
   "source": [
    "next(y_iter)"
   ]
  },
  {
   "cell_type": "code",
   "execution_count": 17,
   "id": "b5f045f0",
   "metadata": {},
   "outputs": [
    {
     "data": {
      "text/plain": [
       "4"
      ]
     },
     "execution_count": 17,
     "metadata": {},
     "output_type": "execute_result"
    }
   ],
   "source": [
    "next(y_iter)"
   ]
  },
  {
   "cell_type": "code",
   "execution_count": 18,
   "id": "275f220a",
   "metadata": {},
   "outputs": [
    {
     "ename": "StopIteration",
     "evalue": "",
     "output_type": "error",
     "traceback": [
      "\u001b[0;31m---------------------------------------------------------------------------\u001b[0m",
      "\u001b[0;31mStopIteration\u001b[0m                             Traceback (most recent call last)",
      "\u001b[0;32m/var/folders/82/h9b1wq453dbd802y_2yd_0g00000gn/T/ipykernel_1379/2191544559.py\u001b[0m in \u001b[0;36m<module>\u001b[0;34m\u001b[0m\n\u001b[0;32m----> 1\u001b[0;31m \u001b[0mnext\u001b[0m\u001b[0;34m(\u001b[0m\u001b[0my_iter\u001b[0m\u001b[0;34m)\u001b[0m\u001b[0;34m\u001b[0m\u001b[0;34m\u001b[0m\u001b[0m\n\u001b[0m",
      "\u001b[0;32m/var/folders/82/h9b1wq453dbd802y_2yd_0g00000gn/T/ipykernel_1379/683066139.py\u001b[0m in \u001b[0;36m__next__\u001b[0;34m(self)\u001b[0m\n\u001b[1;32m     21\u001b[0m             \u001b[0;32mreturn\u001b[0m \u001b[0mi\u001b[0m\u001b[0;34m\u001b[0m\u001b[0;34m\u001b[0m\u001b[0m\n\u001b[1;32m     22\u001b[0m         \u001b[0;32melse\u001b[0m\u001b[0;34m:\u001b[0m\u001b[0;34m\u001b[0m\u001b[0;34m\u001b[0m\u001b[0m\n\u001b[0;32m---> 23\u001b[0;31m             \u001b[0;32mraise\u001b[0m \u001b[0mStopIteration\u001b[0m\u001b[0;34m(\u001b[0m\u001b[0;34m)\u001b[0m\u001b[0;34m\u001b[0m\u001b[0;34m\u001b[0m\u001b[0m\n\u001b[0m",
      "\u001b[0;31mStopIteration\u001b[0m: "
     ]
    }
   ],
   "source": [
    "next(y_iter)"
   ]
  },
  {
   "cell_type": "code",
   "execution_count": 20,
   "id": "4db8b016",
   "metadata": {},
   "outputs": [],
   "source": [
    "# we should implement iterable and iterator in different classes\n",
    "\n",
    "# this is an iterable class\n",
    "class zrange:\n",
    "     # n is the number upto which we want the range\n",
    "    def __init__(self, n):\n",
    "        self.n = n\n",
    "        \n",
    "    # to make this class an iterable, we have to implement the iter function\n",
    "    def __iter__(self):\n",
    "        return zrange_iter(self.n) # this iterator will iterate upto n\n",
    "    \n",
    "# this is an iterator class\n",
    "class zrange_iter:\n",
    "    # this iterator will hold the itearting value\n",
    "    def __init__(self, n): \n",
    "        self.i = 0\n",
    "        self.n = n\n",
    "    \n",
    "    def __iter__(self):\n",
    "        return self\n",
    "    \n",
    "    def __next__(self):\n",
    "        if self.i < self.n:\n",
    "            i = self.i\n",
    "            self.i += 1\n",
    "            return i\n",
    "        else:\n",
    "            raise StopIteration()"
   ]
  },
  {
   "cell_type": "code",
   "execution_count": 21,
   "id": "12a7704a",
   "metadata": {},
   "outputs": [
    {
     "name": "stdout",
     "output_type": "stream",
     "text": [
      "0\n",
      "1\n",
      "4\n",
      "9\n",
      "16\n"
     ]
    }
   ],
   "source": [
    "for x in zrange(5):\n",
    "    print(x**2)"
   ]
  },
  {
   "cell_type": "code",
   "execution_count": 27,
   "id": "b38b3ff2",
   "metadata": {},
   "outputs": [],
   "source": [
    "z = zrange(10)"
   ]
  },
  {
   "cell_type": "code",
   "execution_count": 28,
   "id": "cec43ef0",
   "metadata": {},
   "outputs": [
    {
     "data": {
      "text/plain": [
       "[0, 1, 2, 3, 4, 5, 6, 7, 8, 9]"
      ]
     },
     "execution_count": 28,
     "metadata": {},
     "output_type": "execute_result"
    }
   ],
   "source": [
    "list(z)"
   ]
  },
  {
   "cell_type": "code",
   "execution_count": 29,
   "id": "631a59a1",
   "metadata": {},
   "outputs": [
    {
     "data": {
      "text/plain": [
       "[0, 1, 2, 3, 4, 5, 6, 7, 8, 9]"
      ]
     },
     "execution_count": 29,
     "metadata": {},
     "output_type": "execute_result"
    }
   ],
   "source": [
    "# we can consume zrange multiple times unlike yrange as \n",
    "# iterable and iterator are two different classes\n",
    "list(z)"
   ]
  },
  {
   "cell_type": "markdown",
   "id": "fa9dd700",
   "metadata": {},
   "source": [
    "- different iterable objects in Python return different kind of objects/elements when we iterate over them"
   ]
  },
  {
   "cell_type": "code",
   "execution_count": 31,
   "id": "f084a494",
   "metadata": {},
   "outputs": [
    {
     "name": "stdout",
     "output_type": "stream",
     "text": [
      "1\n",
      "[1, 2]\n",
      "3\n",
      "4\n"
     ]
    }
   ],
   "source": [
    "a = [1, [1, 2], 3, 4]\n",
    "\n",
    "for x in a:\n",
    "    # perform some task on each element\n",
    "    print(x)"
   ]
  },
  {
   "cell_type": "code",
   "execution_count": 33,
   "id": "b86175ee",
   "metadata": {},
   "outputs": [
    {
     "name": "stdout",
     "output_type": "stream",
     "text": [
      "j\n",
      "a\n",
      "t\n",
      "i\n",
      "n\n"
     ]
    }
   ],
   "source": [
    "name = \"jatin\"\n",
    "\n",
    "for char in name:\n",
    "    print(char)"
   ]
  },
  {
   "cell_type": "code",
   "execution_count": 34,
   "id": "e9b0cec3",
   "metadata": {},
   "outputs": [
    {
     "name": "stdout",
     "output_type": "stream",
     "text": [
      "name\n",
      "last_name\n",
      "marks\n"
     ]
    }
   ],
   "source": [
    "d = {\"name\": \"jatin\", \"last_name\": \"katyal\", \"marks\": 80}\n",
    "\n",
    "# when we iterate on a dictionary it returns us the keys\n",
    "for x in d:\n",
    "    print(x)"
   ]
  },
  {
   "cell_type": "code",
   "execution_count": 35,
   "id": "f790fcaa",
   "metadata": {},
   "outputs": [
    {
     "name": "stdout",
     "output_type": "stream",
     "text": [
      "hello\n",
      "\n",
      "my name is \n",
      "\n",
      "abc\n"
     ]
    }
   ],
   "source": [
    "# iterating over a file\n",
    "# each iteration will be on a line\n",
    "# the iterable object open(\"random.txt\", \"r\") will return us single line in that file\n",
    "for line in open(\"random.txt\", \"r\"):\n",
    "    print(line)"
   ]
  },
  {
   "cell_type": "code",
   "execution_count": 36,
   "id": "1a5f0782",
   "metadata": {},
   "outputs": [
    {
     "data": {
      "text/plain": [
       "'a.b.c'"
      ]
     },
     "execution_count": 36,
     "metadata": {},
     "output_type": "execute_result"
    }
   ],
   "source": [
    "# join takes in the iterable object which contains string elements in it and\n",
    "# it appends/joins these string elements with the string that we are applying the behaviour join on\n",
    "\".\".join([\"a\", \"b\", \"c\"])"
   ]
  },
  {
   "cell_type": "code",
   "execution_count": 37,
   "id": "3d3bf1bd",
   "metadata": {},
   "outputs": [
    {
     "data": {
      "text/plain": [
       "'name.last_name.marks'"
      ]
     },
     "execution_count": 37,
     "metadata": {},
     "output_type": "execute_result"
    }
   ],
   "source": [
    "\".\".join(d)"
   ]
  },
  {
   "cell_type": "code",
   "execution_count": 38,
   "id": "c9ec38ed",
   "metadata": {},
   "outputs": [],
   "source": [
    "a = list(\"jatin\") \n",
    "# list() takes the parameters of an iterable and it will iterate over that object \n",
    "# we will get a list of each element of this iterable "
   ]
  },
  {
   "cell_type": "code",
   "execution_count": 39,
   "id": "bb8a47c7",
   "metadata": {},
   "outputs": [
    {
     "data": {
      "text/plain": [
       "['j', 'a', 't', 'i', 'n']"
      ]
     },
     "execution_count": 39,
     "metadata": {},
     "output_type": "execute_result"
    }
   ],
   "source": [
    "a"
   ]
  },
  {
   "cell_type": "code",
   "execution_count": 40,
   "id": "fd2a61c4",
   "metadata": {},
   "outputs": [],
   "source": [
    "a = [1, 2, 3, 4]"
   ]
  },
  {
   "cell_type": "code",
   "execution_count": 41,
   "id": "bc21ee42",
   "metadata": {},
   "outputs": [
    {
     "data": {
      "text/plain": [
       "10"
      ]
     },
     "execution_count": 41,
     "metadata": {},
     "output_type": "execute_result"
    }
   ],
   "source": [
    "# we can directly give an iterable(like list, tuple, etc) to sum function\n",
    "# it takes an iterable object, iterates over it, splits inetegers and sums up those integers\n",
    "sum(a)"
   ]
  },
  {
   "cell_type": "code",
   "execution_count": 42,
   "id": "456e59af",
   "metadata": {},
   "outputs": [],
   "source": [
    "b = {1: \"jatin\", 2: \"katyal\", 3: \"coding blocks\"}"
   ]
  },
  {
   "cell_type": "code",
   "execution_count": 43,
   "id": "2eacf980",
   "metadata": {},
   "outputs": [
    {
     "data": {
      "text/plain": [
       "6"
      ]
     },
     "execution_count": 43,
     "metadata": {},
     "output_type": "execute_result"
    }
   ],
   "source": [
    "sum(b)"
   ]
  },
  {
   "cell_type": "markdown",
   "id": "c6bbf878",
   "metadata": {},
   "source": [
    "### Generators"
   ]
  },
  {
   "cell_type": "markdown",
   "id": "ebd3cce6",
   "metadata": {},
   "source": [
    "- simple **functions** or **expressions** used to create an iterator"
   ]
  },
  {
   "cell_type": "code",
   "execution_count": 44,
   "id": "585ebd9d",
   "metadata": {},
   "outputs": [],
   "source": [
    "# object of this class will be an iterable\n",
    "class fib:\n",
    "    def __init__(self):\n",
    "        self.prev = 0\n",
    "        self.curr = 1\n",
    "    \n",
    "    def __iter__(self):\n",
    "    # this class is also an iterator\n",
    "        return self\n",
    "    \n",
    "    def __next__(self):\n",
    "        value = self.curr\n",
    "        self.curr += self.prev\n",
    "        self.prev = value\n",
    "        return value\n",
    "\n",
    "# python has a built-in functionality called generators to shorten this code"
   ]
  },
  {
   "cell_type": "code",
   "execution_count": 45,
   "id": "8fdc47c0",
   "metadata": {},
   "outputs": [],
   "source": [
    "f = iter(fib())"
   ]
  },
  {
   "cell_type": "code",
   "execution_count": 51,
   "id": "74d9c61c",
   "metadata": {},
   "outputs": [
    {
     "data": {
      "text/plain": [
       "8"
      ]
     },
     "execution_count": 51,
     "metadata": {},
     "output_type": "execute_result"
    }
   ],
   "source": [
    "next(f)"
   ]
  },
  {
   "cell_type": "code",
   "execution_count": 56,
   "id": "471c5bc7",
   "metadata": {},
   "outputs": [],
   "source": [
    "# to create a generator, keyword called yield is used\n",
    "# if any function has this keyword, it is known as generator function\n",
    "def fib():\n",
    "    prev, curr = 0,1\n",
    "    while True:\n",
    "        yield curr\n",
    "        # unlike return, excution of the function doesn't stop at yield and keeps on executing\n",
    "        prev, curr = curr, curr + prev"
   ]
  },
  {
   "cell_type": "code",
   "execution_count": 57,
   "id": "8418ea72",
   "metadata": {},
   "outputs": [
    {
     "data": {
      "text/plain": [
       "function"
      ]
     },
     "execution_count": 57,
     "metadata": {},
     "output_type": "execute_result"
    }
   ],
   "source": [
    "# fib in itself is a function\n",
    "type(fib)"
   ]
  },
  {
   "cell_type": "code",
   "execution_count": 58,
   "id": "3c762b22",
   "metadata": {},
   "outputs": [
    {
     "data": {
      "text/plain": [
       "generator"
      ]
     },
     "execution_count": 58,
     "metadata": {},
     "output_type": "execute_result"
    }
   ],
   "source": [
    "# when we call it, it returns us a generator\n",
    "type(fib())"
   ]
  },
  {
   "cell_type": "code",
   "execution_count": 59,
   "id": "2a6a9b95",
   "metadata": {},
   "outputs": [],
   "source": [
    "gen = fib()"
   ]
  },
  {
   "cell_type": "code",
   "execution_count": 64,
   "id": "d2eff03d",
   "metadata": {},
   "outputs": [
    {
     "data": {
      "text/plain": [
       "5"
      ]
     },
     "execution_count": 64,
     "metadata": {},
     "output_type": "execute_result"
    }
   ],
   "source": [
    "next(gen)"
   ]
  },
  {
   "cell_type": "markdown",
   "id": "303eb926",
   "metadata": {},
   "source": [
    "#### Generator Expression"
   ]
  },
  {
   "cell_type": "code",
   "execution_count": 65,
   "id": "d5e10b4f",
   "metadata": {},
   "outputs": [],
   "source": [
    "# this is generator expression, not tuple comprehension\n",
    "gen = (x**2 for x in range(1, 11))\n",
    "# this is itself a generator/iterator\n",
    "# in the previous case, we had to call the function which returned the generator"
   ]
  },
  {
   "cell_type": "code",
   "execution_count": 66,
   "id": "301a4797",
   "metadata": {},
   "outputs": [
    {
     "data": {
      "text/plain": [
       "generator"
      ]
     },
     "execution_count": 66,
     "metadata": {},
     "output_type": "execute_result"
    }
   ],
   "source": [
    "type(gen)"
   ]
  },
  {
   "cell_type": "code",
   "execution_count": 77,
   "id": "f3fee38e",
   "metadata": {},
   "outputs": [
    {
     "ename": "StopIteration",
     "evalue": "",
     "output_type": "error",
     "traceback": [
      "\u001b[0;31m---------------------------------------------------------------------------\u001b[0m",
      "\u001b[0;31mStopIteration\u001b[0m                             Traceback (most recent call last)",
      "\u001b[0;32m/var/folders/82/h9b1wq453dbd802y_2yd_0g00000gn/T/ipykernel_1379/4293081279.py\u001b[0m in \u001b[0;36m<module>\u001b[0;34m\u001b[0m\n\u001b[0;32m----> 1\u001b[0;31m \u001b[0mnext\u001b[0m\u001b[0;34m(\u001b[0m\u001b[0mgen\u001b[0m\u001b[0;34m)\u001b[0m\u001b[0;34m\u001b[0m\u001b[0;34m\u001b[0m\u001b[0m\n\u001b[0m",
      "\u001b[0;31mStopIteration\u001b[0m: "
     ]
    }
   ],
   "source": [
    "next(gen)"
   ]
  },
  {
   "cell_type": "code",
   "execution_count": null,
   "id": "6a04914e",
   "metadata": {},
   "outputs": [],
   "source": []
  }
 ],
 "metadata": {
  "kernelspec": {
   "display_name": "Python 3 (ipykernel)",
   "language": "python",
   "name": "python3"
  },
  "language_info": {
   "codemirror_mode": {
    "name": "ipython",
    "version": 3
   },
   "file_extension": ".py",
   "mimetype": "text/x-python",
   "name": "python",
   "nbconvert_exporter": "python",
   "pygments_lexer": "ipython3",
   "version": "3.8.9"
  }
 },
 "nbformat": 4,
 "nbformat_minor": 5
}
