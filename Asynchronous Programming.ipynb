{
 "cells": [
  {
   "cell_type": "markdown",
   "id": "be226116",
   "metadata": {},
   "source": [
    "### In Python we have 4 ways of writing asynchronous code"
   ]
  },
  {
   "cell_type": "markdown",
   "id": "c31a8736",
   "metadata": {},
   "source": [
    "- Multi Processes\n",
    "- Multi Threading\n",
    "- Couroutines\n",
    "- Async I/O"
   ]
  },
  {
   "cell_type": "markdown",
   "id": "8d564e53",
   "metadata": {},
   "source": [
    "#### Multi Processes"
   ]
  },
  {
   "cell_type": "code",
   "execution_count": 1,
   "id": "ed265fe6",
   "metadata": {},
   "outputs": [],
   "source": [
    "from multiprocessing import Process"
   ]
  },
  {
   "cell_type": "code",
   "execution_count": 2,
   "id": "649f8291",
   "metadata": {},
   "outputs": [],
   "source": [
    "def showSquare(num=2):\n",
    "    print(num**2)"
   ]
  },
  {
   "cell_type": "code",
   "execution_count": 3,
   "id": "88bb73a2",
   "metadata": {},
   "outputs": [],
   "source": [
    "# creating a list of all the processes that we want to run parallely\n",
    "procs = []"
   ]
  },
  {
   "cell_type": "code",
   "execution_count": 4,
   "id": "12710608",
   "metadata": {},
   "outputs": [],
   "source": [
    "# target is the function that will be ran in the particular process\n",
    "# appends 5 processes\n",
    "for i in range(5):\n",
    "    procs.append(Process(target = showSquare, args = (i+1, )))"
   ]
  },
  {
   "cell_type": "code",
   "execution_count": 5,
   "id": "f7776fd4",
   "metadata": {},
   "outputs": [
    {
     "name": "stderr",
     "output_type": "stream",
     "text": [
      "Traceback (most recent call last):\n",
      "  File \"<string>\", line 1, in <module>\n",
      "  File \"/Library/Frameworks/Python.framework/Versions/3.8/lib/python3.8/multiprocessing/spawn.py\", line 116, in spawn_main\n",
      "    exitcode = _main(fd, parent_sentinel)\n",
      "  File \"/Library/Frameworks/Python.framework/Versions/3.8/lib/python3.8/multiprocessing/spawn.py\", line 126, in _main\n",
      "    self = reduction.pickle.load(from_parent)\n",
      "AttributeError: Can't get attribute 'showSquare' on <module '__main__' (built-in)>\n",
      "Traceback (most recent call last):\n",
      "  File \"<string>\", line 1, in <module>\n",
      "  File \"/Library/Frameworks/Python.framework/Versions/3.8/lib/python3.8/multiprocessing/spawn.py\", line 116, in spawn_main\n",
      "    exitcode = _main(fd, parent_sentinel)\n",
      "  File \"/Library/Frameworks/Python.framework/Versions/3.8/lib/python3.8/multiprocessing/spawn.py\", line 126, in _main\n",
      "    self = reduction.pickle.load(from_parent)\n",
      "AttributeError: Can't get attribute 'showSquare' on <module '__main__' (built-in)>\n",
      "Traceback (most recent call last):\n",
      "  File \"<string>\", line 1, in <module>\n",
      "  File \"/Library/Frameworks/Python.framework/Versions/3.8/lib/python3.8/multiprocessing/spawn.py\", line 116, in spawn_main\n",
      "    exitcode = _main(fd, parent_sentinel)\n",
      "  File \"/Library/Frameworks/Python.framework/Versions/3.8/lib/python3.8/multiprocessing/spawn.py\", line 126, in _main\n",
      "    self = reduction.pickle.load(from_parent)\n",
      "AttributeError: Can't get attribute 'showSquare' on <module '__main__' (built-in)>\n",
      "Traceback (most recent call last):\n",
      "  File \"<string>\", line 1, in <module>\n",
      "  File \"/Library/Frameworks/Python.framework/Versions/3.8/lib/python3.8/multiprocessing/spawn.py\", line 116, in spawn_main\n",
      "    exitcode = _main(fd, parent_sentinel)\n",
      "  File \"/Library/Frameworks/Python.framework/Versions/3.8/lib/python3.8/multiprocessing/spawn.py\", line 126, in _main\n",
      "    self = reduction.pickle.load(from_parent)\n",
      "AttributeError: Can't get attribute 'showSquare' on <module '__main__' (built-in)>\n",
      "Traceback (most recent call last):\n",
      "  File \"<string>\", line 1, in <module>\n",
      "  File \"/Library/Frameworks/Python.framework/Versions/3.8/lib/python3.8/multiprocessing/spawn.py\", line 116, in spawn_main\n",
      "    exitcode = _main(fd, parent_sentinel)\n",
      "  File \"/Library/Frameworks/Python.framework/Versions/3.8/lib/python3.8/multiprocessing/spawn.py\", line 126, in _main\n",
      "    self = reduction.pickle.load(from_parent)\n",
      "AttributeError: Can't get attribute 'showSquare' on <module '__main__' (built-in)>\n"
     ]
    }
   ],
   "source": [
    "if __name__ == \"__main__\":\n",
    "    for proc in procs:\n",
    "        proc.start()"
   ]
  },
  {
   "cell_type": "code",
   "execution_count": 27,
   "id": "b172065d",
   "metadata": {},
   "outputs": [],
   "source": [
    "# join the processes to see the result of each one\n",
    "# if we want to wait until processes are complete, \n",
    "# we call join function (asynchronous method) and wait until they complete\n",
    "for proc in procs:\n",
    "    proc.join"
   ]
  },
  {
   "cell_type": "markdown",
   "id": "144d7d84",
   "metadata": {},
   "source": [
    "#### Multi Threading"
   ]
  },
  {
   "cell_type": "code",
   "execution_count": 5,
   "id": "9e5f5921",
   "metadata": {},
   "outputs": [],
   "source": [
    "# threads are chunks of codes which can be exceuted\n",
    "# all of these threads can be executed in the context(allocated resources) of a single process\n",
    "# join is a synchronous method\n",
    "# main advantage of having threads is to have resource sharing between the threads\n",
    "from threading import Thread"
   ]
  },
  {
   "cell_type": "code",
   "execution_count": 37,
   "id": "c23cc2e7",
   "metadata": {},
   "outputs": [],
   "source": [
    "def square(n):\n",
    "    print(\"square is\", x**2)\n",
    "def cube(n):\n",
    "    print(\"cube is\", x**3)"
   ]
  },
  {
   "cell_type": "code",
   "execution_count": 38,
   "id": "341bf261",
   "metadata": {},
   "outputs": [],
   "source": [
    "t1 = Thread(target = square, args = (4,))\n",
    "t2 = Thread(target = cube, args = (3,))"
   ]
  },
  {
   "cell_type": "code",
   "execution_count": 39,
   "id": "20bfa0e6",
   "metadata": {},
   "outputs": [
    {
     "name": "stderr",
     "output_type": "stream",
     "text": [
      "Exception in thread Thread-7:\n",
      "Traceback (most recent call last):\n",
      "  File \"/Library/Frameworks/Python.framework/Versions/3.8/lib/python3.8/threading.py\", line 932, in _bootstrap_inner\n",
      "Exception in thread Thread-8:\n",
      "Traceback (most recent call last):\n",
      "  File \"/Library/Frameworks/Python.framework/Versions/3.8/lib/python3.8/threading.py\", line 932, in _bootstrap_inner\n",
      "        self.run()\n",
      "  File \"/Library/Frameworks/Python.framework/Versions/3.8/lib/python3.8/threading.py\", line 870, in run\n",
      "self.run()\n",
      "  File \"/Library/Frameworks/Python.framework/Versions/3.8/lib/python3.8/threading.py\", line 870, in run\n",
      "    self._target(*self._args, **self._kwargs)\n",
      "  File \"/var/folders/82/h9b1wq453dbd802y_2yd_0g00000gn/T/ipykernel_7407/1394825236.py\", line 4, in cube\n",
      "    self._target(*self._args, **self._kwargs)\n",
      "  File \"/var/folders/82/h9b1wq453dbd802y_2yd_0g00000gn/T/ipykernel_7407/1394825236.py\", line 2, in square\n",
      "NameError: NameErrorname 'x' is not defined\n",
      ": name 'x' is not defined\n"
     ]
    }
   ],
   "source": [
    "t1.start()\n",
    "t2.start()"
   ]
  },
  {
   "cell_type": "code",
   "execution_count": 40,
   "id": "835c03dc",
   "metadata": {},
   "outputs": [],
   "source": [
    "t1.join()"
   ]
  },
  {
   "cell_type": "code",
   "execution_count": 41,
   "id": "a035692e",
   "metadata": {},
   "outputs": [],
   "source": [
    "t2.join()"
   ]
  },
  {
   "cell_type": "code",
   "execution_count": 6,
   "id": "ba9c7484",
   "metadata": {},
   "outputs": [],
   "source": [
    "# queue is locked to the thread whenever it is publishing or subscribing to it\n",
    "from queue import Queue"
   ]
  },
  {
   "cell_type": "code",
   "execution_count": 11,
   "id": "d71bd480",
   "metadata": {},
   "outputs": [],
   "source": [
    "def producer(q):\n",
    "    for i in range(5):\n",
    "        q.put(i)\n",
    "        print(\"published\",i)\n",
    "        \n",
    "# consume from the queue indefinitely\n",
    "def consumer(q):\n",
    "    while True:\n",
    "        data = q.get()     # getting the last value from queue\n",
    "        print(\"consumed\",data)"
   ]
  },
  {
   "cell_type": "code",
   "execution_count": 12,
   "id": "673b9d59",
   "metadata": {},
   "outputs": [],
   "source": [
    "q = Queue()"
   ]
  },
  {
   "cell_type": "code",
   "execution_count": 17,
   "id": "13b2d72a",
   "metadata": {},
   "outputs": [],
   "source": [
    "producer_thread = Thread(target = producer, args = (q,))\n",
    "consumer_thread = Thread(target = consumer, args = (q,))"
   ]
  },
  {
   "cell_type": "code",
   "execution_count": 18,
   "id": "6af28bc7",
   "metadata": {},
   "outputs": [],
   "source": [
    "consumer_thread.start()   # consumes the data"
   ]
  },
  {
   "cell_type": "code",
   "execution_count": 19,
   "id": "d139ca10",
   "metadata": {},
   "outputs": [
    {
     "name": "stdout",
     "output_type": "stream",
     "text": [
      "published 0\n",
      "published 1\n",
      "published 2\n",
      "published 3\n",
      "published 4\n",
      "consumedconsumed  1\n",
      "consumed 2\n",
      "consumed 3\n",
      "consumed0\n",
      " 4\n"
     ]
    }
   ],
   "source": [
    "producer_thread.start()    # started producing the data while the consumer was waiting for it\n",
    "# this happens in a multithreaded asynchronous manner"
   ]
  },
  {
   "cell_type": "code",
   "execution_count": 20,
   "id": "33c793e4",
   "metadata": {},
   "outputs": [],
   "source": [
    "# it has finished putting all the data, so it will finish immediately\n",
    "producer_thread.join()"
   ]
  },
  {
   "cell_type": "code",
   "execution_count": 21,
   "id": "208a9958",
   "metadata": {},
   "outputs": [
    {
     "ename": "KeyboardInterrupt",
     "evalue": "",
     "output_type": "error",
     "traceback": [
      "\u001b[0;31m---------------------------------------------------------------------------\u001b[0m",
      "\u001b[0;31mKeyboardInterrupt\u001b[0m                         Traceback (most recent call last)",
      "\u001b[0;32m/var/folders/82/h9b1wq453dbd802y_2yd_0g00000gn/T/ipykernel_1283/812161913.py\u001b[0m in \u001b[0;36m<module>\u001b[0;34m\u001b[0m\n\u001b[0;32m----> 1\u001b[0;31m \u001b[0mconsumer_thread\u001b[0m\u001b[0;34m.\u001b[0m\u001b[0mjoin\u001b[0m\u001b[0;34m(\u001b[0m\u001b[0;34m)\u001b[0m\u001b[0;34m\u001b[0m\u001b[0;34m\u001b[0m\u001b[0m\n\u001b[0m",
      "\u001b[0;32m/Library/Frameworks/Python.framework/Versions/3.8/lib/python3.8/threading.py\u001b[0m in \u001b[0;36mjoin\u001b[0;34m(self, timeout)\u001b[0m\n\u001b[1;32m   1009\u001b[0m \u001b[0;34m\u001b[0m\u001b[0m\n\u001b[1;32m   1010\u001b[0m         \u001b[0;32mif\u001b[0m \u001b[0mtimeout\u001b[0m \u001b[0;32mis\u001b[0m \u001b[0;32mNone\u001b[0m\u001b[0;34m:\u001b[0m\u001b[0;34m\u001b[0m\u001b[0;34m\u001b[0m\u001b[0m\n\u001b[0;32m-> 1011\u001b[0;31m             \u001b[0mself\u001b[0m\u001b[0;34m.\u001b[0m\u001b[0m_wait_for_tstate_lock\u001b[0m\u001b[0;34m(\u001b[0m\u001b[0;34m)\u001b[0m\u001b[0;34m\u001b[0m\u001b[0;34m\u001b[0m\u001b[0m\n\u001b[0m\u001b[1;32m   1012\u001b[0m         \u001b[0;32melse\u001b[0m\u001b[0;34m:\u001b[0m\u001b[0;34m\u001b[0m\u001b[0;34m\u001b[0m\u001b[0m\n\u001b[1;32m   1013\u001b[0m             \u001b[0;31m# the behavior of a negative timeout isn't documented, but\u001b[0m\u001b[0;34m\u001b[0m\u001b[0;34m\u001b[0m\u001b[0;34m\u001b[0m\u001b[0m\n",
      "\u001b[0;32m/Library/Frameworks/Python.framework/Versions/3.8/lib/python3.8/threading.py\u001b[0m in \u001b[0;36m_wait_for_tstate_lock\u001b[0;34m(self, block, timeout)\u001b[0m\n\u001b[1;32m   1025\u001b[0m         \u001b[0;32mif\u001b[0m \u001b[0mlock\u001b[0m \u001b[0;32mis\u001b[0m \u001b[0;32mNone\u001b[0m\u001b[0;34m:\u001b[0m  \u001b[0;31m# already determined that the C code is done\u001b[0m\u001b[0;34m\u001b[0m\u001b[0;34m\u001b[0m\u001b[0m\n\u001b[1;32m   1026\u001b[0m             \u001b[0;32massert\u001b[0m \u001b[0mself\u001b[0m\u001b[0;34m.\u001b[0m\u001b[0m_is_stopped\u001b[0m\u001b[0;34m\u001b[0m\u001b[0;34m\u001b[0m\u001b[0m\n\u001b[0;32m-> 1027\u001b[0;31m         \u001b[0;32melif\u001b[0m \u001b[0mlock\u001b[0m\u001b[0;34m.\u001b[0m\u001b[0macquire\u001b[0m\u001b[0;34m(\u001b[0m\u001b[0mblock\u001b[0m\u001b[0;34m,\u001b[0m \u001b[0mtimeout\u001b[0m\u001b[0;34m)\u001b[0m\u001b[0;34m:\u001b[0m\u001b[0;34m\u001b[0m\u001b[0;34m\u001b[0m\u001b[0m\n\u001b[0m\u001b[1;32m   1028\u001b[0m             \u001b[0mlock\u001b[0m\u001b[0;34m.\u001b[0m\u001b[0mrelease\u001b[0m\u001b[0;34m(\u001b[0m\u001b[0;34m)\u001b[0m\u001b[0;34m\u001b[0m\u001b[0;34m\u001b[0m\u001b[0m\n\u001b[1;32m   1029\u001b[0m             \u001b[0mself\u001b[0m\u001b[0;34m.\u001b[0m\u001b[0m_stop\u001b[0m\u001b[0;34m(\u001b[0m\u001b[0;34m)\u001b[0m\u001b[0;34m\u001b[0m\u001b[0;34m\u001b[0m\u001b[0m\n",
      "\u001b[0;31mKeyboardInterrupt\u001b[0m: "
     ]
    }
   ],
   "source": [
    "# consumer_thread was working indefinitely, \n",
    "# it is still waiting for more data to be consumed in the queue\n",
    "consumer_thread.join()"
   ]
  },
  {
   "cell_type": "markdown",
   "id": "5ca8c6ed",
   "metadata": {},
   "source": [
    "#### Couroutines"
   ]
  },
  {
   "cell_type": "code",
   "execution_count": 22,
   "id": "94f99104",
   "metadata": {},
   "outputs": [],
   "source": [
    "# in multi processes and multi threading, \n",
    "# the control or when to run which part of the program is controlled by the OS\n",
    "# but in couroutines, it's us who will be managing which part of program will be running\n",
    "# we will use yield statement but it other than just returning data can also consume data\n",
    "\n",
    "def print_fancy_name(prefix):\n",
    "    try:\n",
    "        while True:\n",
    "            name = (yield)   # this function can consume a value from another function call\n",
    "            print(prefix + \":\" + name)\n",
    "    except GeneratorExit:\n",
    "        print(\"Done !\")\n",
    "# this function will run infinitely"
   ]
  },
  {
   "cell_type": "code",
   "execution_count": 23,
   "id": "6420bd48",
   "metadata": {},
   "outputs": [],
   "source": [
    "co = print_fancy_name(\"Cool\")"
   ]
  },
  {
   "cell_type": "code",
   "execution_count": 24,
   "id": "7466c9f5",
   "metadata": {},
   "outputs": [
    {
     "data": {
      "text/plain": [
       "generator"
      ]
     },
     "execution_count": 24,
     "metadata": {},
     "output_type": "execute_result"
    }
   ],
   "source": [
    "# this is a generator object but acts as a couroutine\n",
    "type(co)"
   ]
  },
  {
   "cell_type": "code",
   "execution_count": 25,
   "id": "d293d4e7",
   "metadata": {},
   "outputs": [],
   "source": [
    "# Initialisation\n",
    "# it will go to yield statement and will wait to consume a particular result\n",
    "next(co)"
   ]
  },
  {
   "cell_type": "markdown",
   "id": "f62efabf",
   "metadata": {},
   "source": [
    "- sending data and control"
   ]
  },
  {
   "cell_type": "code",
   "execution_count": 26,
   "id": "4e03f31a",
   "metadata": {},
   "outputs": [
    {
     "name": "stdout",
     "output_type": "stream",
     "text": [
      "Cool:jatin\n"
     ]
    }
   ],
   "source": [
    "co.send(\"jatin\")"
   ]
  },
  {
   "cell_type": "code",
   "execution_count": 27,
   "id": "bd95eaa5",
   "metadata": {},
   "outputs": [
    {
     "name": "stdout",
     "output_type": "stream",
     "text": [
      "Cool:prateek\n"
     ]
    }
   ],
   "source": [
    "co.send(\"prateek\")"
   ]
  },
  {
   "cell_type": "code",
   "execution_count": 28,
   "id": "a3cdfa1d",
   "metadata": {},
   "outputs": [
    {
     "name": "stdout",
     "output_type": "stream",
     "text": [
      "Done !\n"
     ]
    }
   ],
   "source": [
    "co.close()"
   ]
  },
  {
   "cell_type": "markdown",
   "id": "ade68c24",
   "metadata": {},
   "source": [
    "#### AsyncIO"
   ]
  },
  {
   "cell_type": "code",
   "execution_count": 5,
   "id": "d6a23c86",
   "metadata": {},
   "outputs": [],
   "source": [
    "# this library manages all the asynchronous tasks for us \n",
    "import asyncio"
   ]
  },
  {
   "cell_type": "code",
   "execution_count": 8,
   "id": "1eea1165",
   "metadata": {},
   "outputs": [],
   "source": [
    "# define a function which returns a acouroutine\n",
    "async def main():\n",
    "    print(\"Hello\")\n",
    "    await asyncio.sleep(1)\n",
    "    print(\"World\")"
   ]
  },
  {
   "cell_type": "code",
   "execution_count": 10,
   "id": "68e70946",
   "metadata": {},
   "outputs": [
    {
     "name": "stderr",
     "output_type": "stream",
     "text": [
      "/Library/Frameworks/Python.framework/Versions/3.8/lib/python3.8/asyncio/events.py:81: RuntimeWarning: coroutine 'main' was never awaited\n",
      "  self._context.run(self._callback, *self._args)\n",
      "RuntimeWarning: Enable tracemalloc to get the object allocation traceback\n"
     ]
    },
    {
     "name": "stdout",
     "output_type": "stream",
     "text": [
      "Hello\n",
      "World\n"
     ]
    }
   ],
   "source": [
    "# if __name__ == '__main__':\n",
    "#     print(type(main()))\n",
    "#     asyncio.run(main())\n",
    "#     print(\"Program ended\")\n",
    "await main()"
   ]
  },
  {
   "cell_type": "code",
   "execution_count": null,
   "id": "3ccd21b9",
   "metadata": {},
   "outputs": [],
   "source": []
  }
 ],
 "metadata": {
  "kernelspec": {
   "display_name": "Python 3 (ipykernel)",
   "language": "python",
   "name": "python3"
  },
  "language_info": {
   "codemirror_mode": {
    "name": "ipython",
    "version": 3
   },
   "file_extension": ".py",
   "mimetype": "text/x-python",
   "name": "python",
   "nbconvert_exporter": "python",
   "pygments_lexer": "ipython3",
   "version": "3.8.9"
  }
 },
 "nbformat": 4,
 "nbformat_minor": 5
}
