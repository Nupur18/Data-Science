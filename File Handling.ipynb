{
 "cells": [
  {
   "cell_type": "markdown",
   "id": "f27c370f",
   "metadata": {},
   "source": [
    "#### Opening a file"
   ]
  },
  {
   "cell_type": "code",
   "execution_count": 1,
   "id": "ff8cd7bf",
   "metadata": {},
   "outputs": [],
   "source": [
    "# open functions opens a file and we give it a location (can be absolute path)\n",
    "file = open(\"hello.txt\", \"r\")"
   ]
  },
  {
   "cell_type": "code",
   "execution_count": 2,
   "id": "2d188ee5",
   "metadata": {},
   "outputs": [
    {
     "data": {
      "text/plain": [
       "'Hello'"
      ]
     },
     "execution_count": 2,
     "metadata": {},
     "output_type": "execute_result"
    }
   ],
   "source": [
    "# to get all the data present inside the file -> file.read()\n",
    "# in the read method, we can provide the number of bytes it needs to read\n",
    "# file.read(5) will read only the first 5 bytes of the file\n",
    "file.read(5)"
   ]
  },
  {
   "cell_type": "markdown",
   "id": "a764d132",
   "metadata": {},
   "source": [
    "#### Closing a file"
   ]
  },
  {
   "cell_type": "code",
   "execution_count": 3,
   "id": "91806a8b",
   "metadata": {},
   "outputs": [],
   "source": [
    "# if the file is not closed, it might lead to file getting corrupted\n",
    "file.close()"
   ]
  },
  {
   "cell_type": "markdown",
   "id": "b9962431",
   "metadata": {},
   "source": [
    "#### Writing to a file"
   ]
  },
  {
   "cell_type": "code",
   "execution_count": 4,
   "id": "c67db934",
   "metadata": {},
   "outputs": [],
   "source": [
    "file = open(\"something.txt\", \"w\")"
   ]
  },
  {
   "cell_type": "code",
   "execution_count": 5,
   "id": "a9d29f46",
   "metadata": {},
   "outputs": [
    {
     "data": {
      "text/plain": [
       "25"
      ]
     },
     "execution_count": 5,
     "metadata": {},
     "output_type": "execute_result"
    }
   ],
   "source": [
    "# returns an integer that represents number of bytes that have been written to the file\n",
    "file.write(\"hello from the other side\")"
   ]
  },
  {
   "cell_type": "code",
   "execution_count": 6,
   "id": "2c19ced5",
   "metadata": {},
   "outputs": [],
   "source": [
    "file.close()"
   ]
  },
  {
   "cell_type": "markdown",
   "id": "d8a0c5c4",
   "metadata": {},
   "source": [
    "#### Methods that can be used while reading from a file "
   ]
  },
  {
   "cell_type": "code",
   "execution_count": 7,
   "id": "9163713c",
   "metadata": {},
   "outputs": [],
   "source": [
    "file = open(\"hello.txt\", \"r\")"
   ]
  },
  {
   "cell_type": "code",
   "execution_count": 8,
   "id": "07b21080",
   "metadata": {},
   "outputs": [
    {
     "data": {
      "text/plain": [
       "'Hello World !\\n'"
      ]
     },
     "execution_count": 8,
     "metadata": {},
     "output_type": "execute_result"
    }
   ],
   "source": [
    "# this method reads a file line by line\n",
    "# on executing it again, it will read the next line\n",
    "file.readline()"
   ]
  },
  {
   "cell_type": "code",
   "execution_count": 9,
   "id": "f7caf98a",
   "metadata": {},
   "outputs": [
    {
     "data": {
      "text/plain": [
       "['hello\\n', 'hello again\\n', 'hello yet again']"
      ]
     },
     "execution_count": 9,
     "metadata": {},
     "output_type": "execute_result"
    }
   ],
   "source": [
    "# this method reads a single line of file again and again  \n",
    "# and creates a list of all line in the file \n",
    "file.readlines()"
   ]
  },
  {
   "cell_type": "code",
   "execution_count": 10,
   "id": "7d811b39",
   "metadata": {},
   "outputs": [],
   "source": [
    "file.close()"
   ]
  },
  {
   "cell_type": "markdown",
   "id": "d299fdbe",
   "metadata": {},
   "source": [
    "#### Moving the cursor"
   ]
  },
  {
   "cell_type": "code",
   "execution_count": 11,
   "id": "10d15a93",
   "metadata": {},
   "outputs": [],
   "source": [
    "file = open(\"hello.txt\", \"r\")"
   ]
  },
  {
   "cell_type": "code",
   "execution_count": 12,
   "id": "58783c0e",
   "metadata": {},
   "outputs": [
    {
     "data": {
      "text/plain": [
       "'Hello'"
      ]
     },
     "execution_count": 12,
     "metadata": {},
     "output_type": "execute_result"
    }
   ],
   "source": [
    "file.read(5)"
   ]
  },
  {
   "cell_type": "code",
   "execution_count": 13,
   "id": "ab40eb39",
   "metadata": {},
   "outputs": [
    {
     "data": {
      "text/plain": [
       "' World !\\nhello\\nhello again\\nhello yet again'"
      ]
     },
     "execution_count": 13,
     "metadata": {},
     "output_type": "execute_result"
    }
   ],
   "source": [
    "# we are reading all the file, we will be missing the first five characters \n",
    "file.read()\n",
    "# whenever python opens the file, by default the cursor is at the 0th bite\n",
    "# when we read the first 5 bytes of the file, the cursor moves to the 6th byte of the file\n",
    "# if we do file.read() again, we will get an empty string as we have reached the end of the file"
   ]
  },
  {
   "cell_type": "code",
   "execution_count": 14,
   "id": "53cd8b8a",
   "metadata": {},
   "outputs": [],
   "source": [
    "file.read()"
   ]
  },
  {
   "cell_type": "code",
   "execution_count": 19,
   "id": "a90ac234",
   "metadata": {},
   "outputs": [
    {
     "data": {
      "text/plain": [
       "0"
      ]
     },
     "execution_count": 19,
     "metadata": {},
     "output_type": "execute_result"
    }
   ],
   "source": [
    "# to go back and read the file again, we can seek the cursor the 0th byte\n",
    "file.seek(0)\n",
    "# seek(n) : takes the file handle to the nth byte from the beginning\n",
    "# if we seek it to the 5th byte, it will read from that particular location"
   ]
  },
  {
   "cell_type": "code",
   "execution_count": 20,
   "id": "01d80419",
   "metadata": {},
   "outputs": [
    {
     "data": {
      "text/plain": [
       "'Hello World !\\nhello\\nhello again\\nhello yet again'"
      ]
     },
     "execution_count": 20,
     "metadata": {},
     "output_type": "execute_result"
    }
   ],
   "source": [
    "file.read()"
   ]
  },
  {
   "cell_type": "code",
   "execution_count": 21,
   "id": "07be6c5b",
   "metadata": {},
   "outputs": [],
   "source": [
    "file.close()"
   ]
  },
  {
   "cell_type": "code",
   "execution_count": 22,
   "id": "96877956",
   "metadata": {},
   "outputs": [
    {
     "name": "stdout",
     "output_type": "stream",
     "text": [
      "Hello World !\n",
      "hello\n",
      "hello again\n",
      "hello yet again\n",
      " World !\n",
      "hello\n",
      "hello again\n",
      "hello yet again\n"
     ]
    }
   ],
   "source": [
    "# open the file im read mode and \n",
    "# the resultant of open(\"hello.txt\", \"r\") will be stored in \"file\" object \n",
    "# just like for & if, with statement also has a block\n",
    "# only inside the block, we can read the file\n",
    "with open(\"hello.txt\", \"r\") as file:\n",
    "    print(file.read())\n",
    "    file.seek(5)\n",
    "    print(file.read())\n",
    "# if we try to read the file outisde the with block, it will throw an error\n",
    "# this is because as soon as we move outside the with block, \n",
    "# Python automatically closed the file and saved us from handling all the errors"
   ]
  },
  {
   "cell_type": "markdown",
   "id": "a71e24df",
   "metadata": {},
   "source": [
    "## 2. JSON Files"
   ]
  },
  {
   "cell_type": "code",
   "execution_count": 24,
   "id": "85d3f19a",
   "metadata": {},
   "outputs": [],
   "source": [
    "# we have a library called json in Python which has 4 different methods\n",
    "import json"
   ]
  },
  {
   "cell_type": "code",
   "execution_count": 29,
   "id": "6308e7ea",
   "metadata": {},
   "outputs": [
    {
     "name": "stdout",
     "output_type": "stream",
     "text": [
      "{'name': 'jatin', 'marks': 90, 'subjects': ['eng', 'maths']}\n",
      "<class 'dict'>\n",
      "jatin\n",
      "90\n",
      "eng\n"
     ]
    }
   ],
   "source": [
    "# JSON is just like dictionaries in Python\n",
    "# first we open the file\n",
    "with open(\"data.json\", \"r\") as file:\n",
    "    # print(file.read())   # here we cannot index it using keys\n",
    "    d = json.load(file)  # parses the file and converts it into a dictionary\n",
    "    print(d)\n",
    "    print(type(d))\n",
    "    print(d[\"name\"])\n",
    "    print(d[\"marks\"])\n",
    "    print(d[\"subjects\"][0])"
   ]
  },
  {
   "cell_type": "code",
   "execution_count": 31,
   "id": "c133b3e4",
   "metadata": {},
   "outputs": [
    {
     "name": "stdout",
     "output_type": "stream",
     "text": [
      "{\n",
      "    \"name\": \"jatin\",\n",
      "    \"marks\": 90,\n",
      "    \"subjects\": [\"eng\", \"maths\"]\n",
      "}\n",
      "{'name': 'jatin', 'marks': 90, 'subjects': ['eng', 'maths']}\n",
      "<class 'dict'>\n"
     ]
    }
   ],
   "source": [
    "with open(\"data.json\", \"r\") as file:\n",
    "    data = file.read()\n",
    "    print(data)\n",
    "    d = json.loads(data)  # to parse a JSON string into a dictionary object, s represents string\n",
    "    print(d)\n",
    "    print(type(d))"
   ]
  },
  {
   "cell_type": "code",
   "execution_count": 32,
   "id": "885f0c5e",
   "metadata": {},
   "outputs": [],
   "source": [
    "d = {'name': 'jatin', 'marks': 90, 'subjects': ['eng', 'maths']}"
   ]
  },
  {
   "cell_type": "code",
   "execution_count": 33,
   "id": "b5efbedb",
   "metadata": {},
   "outputs": [],
   "source": [
    "# to convert a dictionary objec to a JSON string, s represents string\n",
    "string = json.dumps(d)"
   ]
  },
  {
   "cell_type": "code",
   "execution_count": 34,
   "id": "7f5a4abb",
   "metadata": {},
   "outputs": [
    {
     "name": "stdout",
     "output_type": "stream",
     "text": [
      "{\"name\": \"jatin\", \"marks\": 90, \"subjects\": [\"eng\", \"maths\"]}\n",
      "<class 'str'>\n"
     ]
    }
   ],
   "source": [
    "print(string)\n",
    "print(type(string))"
   ]
  },
  {
   "cell_type": "code",
   "execution_count": 37,
   "id": "06b3865a",
   "metadata": {},
   "outputs": [],
   "source": [
    "# to create a JSON file from a dictionary\n",
    "with open(\"data2.json\", \"w\") as file:\n",
    "    # file.write(json.dumps(d)) # we can do it like this too but better way is using json.dumps\n",
    "    json.dump(d, file) \n",
    "    # first we give the dictionary that we want to dump into the file and then the file obejct"
   ]
  },
  {
   "cell_type": "markdown",
   "id": "92ad2a3f",
   "metadata": {},
   "source": [
    "## 3. Error Handling"
   ]
  },
  {
   "cell_type": "code",
   "execution_count": 38,
   "id": "402ac5ef",
   "metadata": {},
   "outputs": [],
   "source": [
    "# two statements are used to handle exceptions in Python - try and except\n",
    "# except is coupled with try like else is with if\n",
    "# try can be used alone, but except has to be used with try\n",
    "def div(a, b):\n",
    "    try:\n",
    "        print(a/b)   # try to execut this, if not executable & throws an error, go to except block \n",
    "    except:\n",
    "        print(\"error!\")\n",
    "    print(\"hello\")"
   ]
  },
  {
   "cell_type": "code",
   "execution_count": 39,
   "id": "3632a41b",
   "metadata": {},
   "outputs": [
    {
     "name": "stdout",
     "output_type": "stream",
     "text": [
      "error!\n",
      "hello\n"
     ]
    }
   ],
   "source": [
    "div(10,0)"
   ]
  },
  {
   "cell_type": "code",
   "execution_count": 40,
   "id": "0014bbf8",
   "metadata": {},
   "outputs": [
    {
     "name": "stdout",
     "output_type": "stream",
     "text": [
      "5.0\n",
      "hello\n"
     ]
    }
   ],
   "source": [
    "div(10,2)"
   ]
  },
  {
   "cell_type": "code",
   "execution_count": 1,
   "id": "2c8f6044",
   "metadata": {},
   "outputs": [
    {
     "name": "stdout",
     "output_type": "stream",
     "text": [
      "You were trying to divide by zero\n"
     ]
    }
   ],
   "source": [
    "try:\n",
    "    print(10/0)\n",
    "    a = int(\"jatin\")\n",
    "# here except block handles only ZeroDivisionError(class/type of exception) exception\n",
    "except ZeroDivisionError:\n",
    "    print(\"You were trying to divide by zero\")\n",
    "except ValueError:   # this except block handles all the other errors\n",
    "    print(\"Value error occured\")\n",
    "    \n",
    "# print(10/0) will be executed first and it will raise an exception\n",
    "# due to which it will go in the except block and the rest of the try block will not be executed"
   ]
  },
  {
   "cell_type": "code",
   "execution_count": 3,
   "id": "310949eb",
   "metadata": {},
   "outputs": [
    {
     "name": "stdout",
     "output_type": "stream",
     "text": [
      "division by zero\n",
      "<class 'ZeroDivisionError'>\n"
     ]
    }
   ],
   "source": [
    "# all the exceptions are derived from the base class Exception\n",
    "# inside the except blcok, we will have the object of the exception that was raised\n",
    "# whenever an exception was raised, there was an error object that was created \n",
    "# which can be accessed in the except block\n",
    "try:\n",
    "    print(10/0)\n",
    "except Exception as e:\n",
    "    print(e)\n",
    "    print(type(e))\n",
    "    print(str(e))   # error message being stringified"
   ]
  },
  {
   "cell_type": "code",
   "execution_count": 4,
   "id": "9c777096",
   "metadata": {},
   "outputs": [
    {
     "name": "stdout",
     "output_type": "stream",
     "text": [
      "My custom error\n"
     ]
    }
   ],
   "source": [
    "# we can create our own custom exceptions and we can raise those exceptions using raise statement\n",
    "try:\n",
    "    # rasing the error means saying this line is an error\n",
    "    # so when we land on this line, the code won't execute further and will see this line as error\n",
    "    raise Exception(\"My custom error\") \n",
    "except Exception as e:\n",
    "    print(e)"
   ]
  },
  {
   "cell_type": "code",
   "execution_count": 5,
   "id": "b49c37b5",
   "metadata": {},
   "outputs": [],
   "source": [
    "# all the exceptions in Python must derive from the base class Exception\n",
    "class MyException(Exception):\n",
    "    def __init__(self, message):\n",
    "        self.message = message\n",
    "    def __str__(self):\n",
    "        return self.message"
   ]
  },
  {
   "cell_type": "code",
   "execution_count": 7,
   "id": "8fd94f80",
   "metadata": {},
   "outputs": [
    {
     "name": "stdout",
     "output_type": "stream",
     "text": [
      "Some error\n",
      "<class '__main__.MyException'>\n",
      "Some error\n"
     ]
    }
   ],
   "source": [
    "try:\n",
    "    raise MyException(\"Some error\") \n",
    "except Exception as e:\n",
    "    print(e)\n",
    "    print(type(e))\n",
    "    print(e.message)"
   ]
  },
  {
   "cell_type": "code",
   "execution_count": 2,
   "id": "ef9ca647",
   "metadata": {},
   "outputs": [
    {
     "name": "stdout",
     "output_type": "stream",
     "text": [
      "hello world\n",
      "woah\n",
      "bye bye world\n"
     ]
    }
   ],
   "source": [
    "# there are another set of statements - else & finally that the try block in Python handles\n",
    "# else -> will execute if the try block didn't throw an error\n",
    "# finally -> will always execute (even if error is thrown or not)\n",
    "try:\n",
    "    print(\"hello world\")\n",
    "except:\n",
    "    print(\"ok error occured\")\n",
    "else:\n",
    "    print(\"woah\")\n",
    "finally:\n",
    "    print(\"bye bye world\")"
   ]
  },
  {
   "cell_type": "code",
   "execution_count": 3,
   "id": "51b8eab0",
   "metadata": {},
   "outputs": [
    {
     "name": "stdout",
     "output_type": "stream",
     "text": [
      "hello world\n",
      "ok error occured\n",
      "bye bye world\n"
     ]
    }
   ],
   "source": [
    "# else block is used whenever there is no exception and \n",
    "# we want to perform something based on whether there is an exception or not\n",
    "# finally block is used for the cleanup code\n",
    "try:\n",
    "    print(\"hello world\")\n",
    "    print(10/0)\n",
    "except:\n",
    "    print(\"ok error occured\")\n",
    "else:\n",
    "    print(\"woah\")\n",
    "finally:\n",
    "    print(\"bye bye world\")"
   ]
  },
  {
   "cell_type": "code",
   "execution_count": 4,
   "id": "558f5f28",
   "metadata": {},
   "outputs": [],
   "source": [
    "def func():\n",
    "    try:\n",
    "        return 1\n",
    "    except:\n",
    "        return 2\n",
    "    else:\n",
    "        return 3\n",
    "    finally:\n",
    "        return 4\n",
    "# finally block always executes whether there is an exception or not\n",
    "# and hence it truncates all the other return statements"
   ]
  },
  {
   "cell_type": "code",
   "execution_count": 5,
   "id": "c1b96a7f",
   "metadata": {},
   "outputs": [
    {
     "data": {
      "text/plain": [
       "4"
      ]
     },
     "execution_count": 5,
     "metadata": {},
     "output_type": "execute_result"
    }
   ],
   "source": [
    "func()"
   ]
  },
  {
   "cell_type": "code",
   "execution_count": 6,
   "id": "f9632a59",
   "metadata": {},
   "outputs": [],
   "source": [
    "def func():\n",
    "    try:\n",
    "        return 1\n",
    "    except:\n",
    "        return 2\n",
    "    else:\n",
    "        return 3\n",
    "# else block will only execute if try block doesn't have a return statement\n",
    "# if the try block has a return statement, the program will terminate right away\n",
    "# and else block will not be executed "
   ]
  },
  {
   "cell_type": "code",
   "execution_count": 7,
   "id": "09f6323b",
   "metadata": {},
   "outputs": [
    {
     "data": {
      "text/plain": [
       "1"
      ]
     },
     "execution_count": 7,
     "metadata": {},
     "output_type": "execute_result"
    }
   ],
   "source": [
    "func()"
   ]
  },
  {
   "cell_type": "code",
   "execution_count": 8,
   "id": "5f5e37ee",
   "metadata": {},
   "outputs": [
    {
     "name": "stdout",
     "output_type": "stream",
     "text": [
      "hello from the other side\n"
     ]
    }
   ],
   "source": [
    "try:\n",
    "    file = open(\"something.txt\", \"r\")\n",
    "    print(file.read())\n",
    "except Exception as e:\n",
    "    print(e)\n",
    "finally:\n",
    "    file.close()"
   ]
  },
  {
   "cell_type": "code",
   "execution_count": 9,
   "id": "f063e32a",
   "metadata": {},
   "outputs": [
    {
     "name": "stdout",
     "output_type": "stream",
     "text": [
      "hello from the other side\n"
     ]
    }
   ],
   "source": [
    "# with statement is used when we have predefined cleanup action\n",
    "with open(\"something.txt\", \"r\") as file:\n",
    "    print(file.read())"
   ]
  },
  {
   "cell_type": "code",
   "execution_count": 17,
   "id": "7affab1b",
   "metadata": {},
   "outputs": [],
   "source": [
    "# with block works with the objects that have two dunders\n",
    "class A:\n",
    "    def __init__(self, n):\n",
    "        self.n = n\n",
    "    def __str__(self):\n",
    "        return str(self.n)\n",
    "# to make any class object compatible with 'with', we have to override two methods enter & exit \n",
    "    def __enter__(self):\n",
    "        return self\n",
    "    def __exit__(self, *args):\n",
    "        print(args)\n",
    "        return True\n",
    "# args are the arguments exceptions that were raised insisde the with block\n",
    "# if we return true in exit block, exception will not bubble up and will not be raised\n",
    "# if we return false in exit block, \n",
    "# exception that occured inside the with block will be raised outside the with blcok as well"
   ]
  },
  {
   "cell_type": "code",
   "execution_count": 18,
   "id": "c4e1f66f",
   "metadata": {},
   "outputs": [
    {
     "name": "stdout",
     "output_type": "stream",
     "text": [
      "5\n",
      "(<class 'ZeroDivisionError'>, ZeroDivisionError('division by zero'), <traceback object at 0x7fbba9221800>)\n",
      "hello\n"
     ]
    }
   ],
   "source": [
    "# with block starts the execution by implementing the enter block\n",
    "# enter method returns self(current object) and the returned object is stored inside a\n",
    "# as soon as the with block is completed, exit function is executed\n",
    "with A(5) as a:\n",
    "    print(a)\n",
    "    raise 10/0\n",
    "print(\"hello\")"
   ]
  },
  {
   "cell_type": "code",
   "execution_count": null,
   "id": "0449d405",
   "metadata": {},
   "outputs": [],
   "source": []
  }
 ],
 "metadata": {
  "kernelspec": {
   "display_name": "Python 3 (ipykernel)",
   "language": "python",
   "name": "python3"
  },
  "language_info": {
   "codemirror_mode": {
    "name": "ipython",
    "version": 3
   },
   "file_extension": ".py",
   "mimetype": "text/x-python",
   "name": "python",
   "nbconvert_exporter": "python",
   "pygments_lexer": "ipython3",
   "version": "3.8.9"
  }
 },
 "nbformat": 4,
 "nbformat_minor": 5
}
