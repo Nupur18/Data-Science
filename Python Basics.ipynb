{
 "cells": [
  {
   "cell_type": "code",
   "execution_count": 3,
   "id": "54fd1cc1",
   "metadata": {},
   "outputs": [
    {
     "data": {
      "text/plain": [
       "False"
      ]
     },
     "execution_count": 3,
     "metadata": {},
     "output_type": "execute_result"
    }
   ],
   "source": [
    "isinstance(True, str)"
   ]
  },
  {
   "cell_type": "code",
   "execution_count": 3,
   "id": "1b1d3a88",
   "metadata": {},
   "outputs": [
    {
     "data": {
      "text/plain": [
       "True"
      ]
     },
     "execution_count": 3,
     "metadata": {},
     "output_type": "execute_result"
    }
   ],
   "source": [
    "isinstance(False, bool)"
   ]
  },
  {
   "cell_type": "code",
   "execution_count": 4,
   "id": "9ead161e",
   "metadata": {},
   "outputs": [
    {
     "data": {
      "text/plain": [
       "6"
      ]
     },
     "execution_count": 4,
     "metadata": {},
     "output_type": "execute_result"
    }
   ],
   "source": [
    "5 + True "
   ]
  },
  {
   "cell_type": "code",
   "execution_count": 1,
   "id": "3a10dcd3",
   "metadata": {},
   "outputs": [
    {
     "data": {
      "text/plain": [
       "0"
      ]
     },
     "execution_count": 1,
     "metadata": {},
     "output_type": "execute_result"
    }
   ],
   "source": [
    "5 and 0"
   ]
  },
  {
   "cell_type": "code",
   "execution_count": 2,
   "id": "1732de99",
   "metadata": {},
   "outputs": [
    {
     "data": {
      "text/plain": [
       "5"
      ]
     },
     "execution_count": 2,
     "metadata": {},
     "output_type": "execute_result"
    }
   ],
   "source": [
    "1 and 5"
   ]
  },
  {
   "cell_type": "code",
   "execution_count": 3,
   "id": "6683a659",
   "metadata": {},
   "outputs": [
    {
     "data": {
      "text/plain": [
       "6"
      ]
     },
     "execution_count": 3,
     "metadata": {},
     "output_type": "execute_result"
    }
   ],
   "source": [
    "5 and 6"
   ]
  },
  {
   "cell_type": "code",
   "execution_count": 4,
   "id": "e74463a5",
   "metadata": {},
   "outputs": [
    {
     "data": {
      "text/plain": [
       "6"
      ]
     },
     "execution_count": 4,
     "metadata": {},
     "output_type": "execute_result"
    }
   ],
   "source": [
    "7 and 6"
   ]
  },
  {
   "cell_type": "code",
   "execution_count": 5,
   "id": "7e0461db",
   "metadata": {
    "scrolled": true
   },
   "outputs": [
    {
     "data": {
      "text/plain": [
       "7"
      ]
     },
     "execution_count": 5,
     "metadata": {},
     "output_type": "execute_result"
    }
   ],
   "source": [
    "6 and 7"
   ]
  },
  {
   "cell_type": "code",
   "execution_count": 9,
   "id": "bad55a32",
   "metadata": {},
   "outputs": [],
   "source": [
    "def sheldon_knock(name):\n",
    "    print(\"knock knock knock\", name)"
   ]
  },
  {
   "cell_type": "code",
   "execution_count": 10,
   "id": "dceffb6a",
   "metadata": {
    "scrolled": true
   },
   "outputs": [
    {
     "name": "stdout",
     "output_type": "stream",
     "text": [
      "knock knock knock abc\n"
     ]
    }
   ],
   "source": [
    "sheldon_knock(\"abc\")"
   ]
  },
  {
   "cell_type": "code",
   "execution_count": 3,
   "id": "933daaf9",
   "metadata": {},
   "outputs": [],
   "source": [
    "users = {\n",
    "    \"jatin\": \"password\",\n",
    "    \"prateek\": \"coding blocks\"\n",
    "}"
   ]
  },
  {
   "cell_type": "code",
   "execution_count": 5,
   "id": "ac815cf4",
   "metadata": {},
   "outputs": [],
   "source": [
    "def show(username, password):\n",
    "    if username in users and users[username] == password:\n",
    "        print(\"Hello World\")\n",
    "    else:\n",
    "        print(\"Not Authenticated\")"
   ]
  },
  {
   "cell_type": "code",
   "execution_count": 6,
   "id": "891c069d",
   "metadata": {},
   "outputs": [
    {
     "name": "stdout",
     "output_type": "stream",
     "text": [
      "Hello World\n",
      "Not Authenticated\n"
     ]
    }
   ],
   "source": [
    "show(\"jatin\", \"password\")\n",
    "show(\"jatin\", \"password123\")"
   ]
  },
  {
   "cell_type": "code",
   "execution_count": 7,
   "id": "96d07669",
   "metadata": {},
   "outputs": [],
   "source": [
    "def add(username, password, a, b):\n",
    "    if username in users and users[username] == password:\n",
    "        print(a+b)\n",
    "    else:\n",
    "        print(\"Not Authenticated\")"
   ]
  },
  {
   "cell_type": "code",
   "execution_count": 9,
   "id": "2b513922",
   "metadata": {},
   "outputs": [
    {
     "name": "stdout",
     "output_type": "stream",
     "text": [
      "3\n",
      "Not Authenticated\n"
     ]
    }
   ],
   "source": [
    "add(\"jatin\", \"password\", 1, 2)\n",
    "add(\"jatin\", \"password123\", 1, 2)"
   ]
  },
  {
   "cell_type": "code",
   "execution_count": 16,
   "id": "630943c1",
   "metadata": {},
   "outputs": [],
   "source": [
    "def temp(*args, **kwargs):\n",
    "    print(args)\n",
    "    print(kwargs)"
   ]
  },
  {
   "cell_type": "code",
   "execution_count": 17,
   "id": "b5f0f3bc",
   "metadata": {},
   "outputs": [],
   "source": [
    "a = (1,2,3)"
   ]
  },
  {
   "cell_type": "code",
   "execution_count": 19,
   "id": "e0ee600c",
   "metadata": {},
   "outputs": [
    {
     "name": "stdout",
     "output_type": "stream",
     "text": [
      "((1, 2, 3),)\n",
      "{}\n",
      "(1, 2, 3)\n",
      "{}\n"
     ]
    }
   ],
   "source": [
    "temp(a)\n",
    "temp(*a)"
   ]
  },
  {
   "cell_type": "code",
   "execution_count": 26,
   "id": "8f1108df",
   "metadata": {},
   "outputs": [],
   "source": [
    "def addition(a,b):\n",
    "    print(a+b)"
   ]
  },
  {
   "cell_type": "code",
   "execution_count": 27,
   "id": "2dadc1d9",
   "metadata": {},
   "outputs": [],
   "source": [
    "def login_required(func):\n",
    "    def wrapper(username, password, *args, **kwargs):\n",
    "        if username in users and users[username] == password:\n",
    "            # user is autenticated\n",
    "            func(*args, **kwargs)\n",
    "        else:\n",
    "            print(\"Not Authenticated\")\n",
    "    return wrapper"
   ]
  },
  {
   "cell_type": "code",
   "execution_count": 28,
   "id": "81402170",
   "metadata": {},
   "outputs": [],
   "source": [
    "protected_add = login_required(addition)"
   ]
  },
  {
   "cell_type": "code",
   "execution_count": 29,
   "id": "78a96399",
   "metadata": {},
   "outputs": [
    {
     "name": "stdout",
     "output_type": "stream",
     "text": [
      "<function login_required.<locals>.wrapper at 0x7ff00807caf0>\n"
     ]
    }
   ],
   "source": [
    "print(protected_add)"
   ]
  },
  {
   "cell_type": "code",
   "execution_count": 30,
   "id": "90525713",
   "metadata": {},
   "outputs": [
    {
     "name": "stdout",
     "output_type": "stream",
     "text": [
      "3\n",
      "Not Authenticated\n"
     ]
    }
   ],
   "source": [
    "protected_add(\"jatin\", \"password\", 1, 2)\n",
    "protected_add(\"jatin\", \"password123\", 1, 2)"
   ]
  },
  {
   "cell_type": "markdown",
   "id": "5ee31e22",
   "metadata": {},
   "source": [
    "### These two are the same"
   ]
  },
  {
   "cell_type": "code",
   "execution_count": 33,
   "id": "b03034b6",
   "metadata": {},
   "outputs": [],
   "source": [
    "def addition(a,b):\n",
    "    print(a+b)\n",
    "addition = login_required(addition)"
   ]
  },
  {
   "cell_type": "code",
   "execution_count": 34,
   "id": "45d449c4",
   "metadata": {},
   "outputs": [],
   "source": [
    "@login_required\n",
    "def addition(a,b):\n",
    "    print(a+b)"
   ]
  },
  {
   "cell_type": "code",
   "execution_count": 35,
   "id": "9905c5d7",
   "metadata": {},
   "outputs": [
    {
     "name": "stdout",
     "output_type": "stream",
     "text": [
      "3\n",
      "Not Authenticated\n"
     ]
    }
   ],
   "source": [
    "addition(\"jatin\", \"password\", 1, 2)\n",
    "addition(\"jatin\", \"password123\", 1, 2)"
   ]
  },
  {
   "cell_type": "markdown",
   "id": "9388af43",
   "metadata": {},
   "source": [
    "### Lists"
   ]
  },
  {
   "cell_type": "code",
   "execution_count": 5,
   "id": "5ebc2a77",
   "metadata": {},
   "outputs": [],
   "source": [
    "# empty list\n",
    "a = list()\n",
    "b = []"
   ]
  },
  {
   "cell_type": "code",
   "execution_count": 8,
   "id": "d21df5e4",
   "metadata": {},
   "outputs": [],
   "source": [
    "c = ['jatin', 1, 1.6, print]"
   ]
  },
  {
   "cell_type": "code",
   "execution_count": 9,
   "id": "045a7acf",
   "metadata": {},
   "outputs": [
    {
     "data": {
      "text/plain": [
       "<function print>"
      ]
     },
     "execution_count": 9,
     "metadata": {},
     "output_type": "execute_result"
    }
   ],
   "source": [
    "c[3]"
   ]
  },
  {
   "cell_type": "code",
   "execution_count": 10,
   "id": "41dee9b8",
   "metadata": {},
   "outputs": [
    {
     "name": "stdout",
     "output_type": "stream",
     "text": [
      "hello\n"
     ]
    }
   ],
   "source": [
    "c[3](\"hello\")"
   ]
  },
  {
   "cell_type": "code",
   "execution_count": 11,
   "id": "79b1b70e",
   "metadata": {},
   "outputs": [],
   "source": [
    "d = [\"jatin\", \"prateek\", \"mohit\", \"jatin\"]"
   ]
  },
  {
   "cell_type": "code",
   "execution_count": 12,
   "id": "6fff7342",
   "metadata": {},
   "outputs": [],
   "source": [
    "d.remove(\"jatin\")"
   ]
  },
  {
   "cell_type": "code",
   "execution_count": 13,
   "id": "f6030eef",
   "metadata": {},
   "outputs": [
    {
     "data": {
      "text/plain": [
       "['prateek', 'mohit', 'jatin']"
      ]
     },
     "execution_count": 13,
     "metadata": {},
     "output_type": "execute_result"
    }
   ],
   "source": [
    "d"
   ]
  },
  {
   "cell_type": "code",
   "execution_count": 14,
   "id": "90a7eb90",
   "metadata": {},
   "outputs": [],
   "source": [
    "a = [1,3,2,4]"
   ]
  },
  {
   "cell_type": "code",
   "execution_count": 15,
   "id": "39ad7f73",
   "metadata": {},
   "outputs": [
    {
     "data": {
      "text/plain": [
       "[1, 2, 3, 4]"
      ]
     },
     "execution_count": 15,
     "metadata": {},
     "output_type": "execute_result"
    }
   ],
   "source": [
    "sorted(a)"
   ]
  },
  {
   "cell_type": "code",
   "execution_count": 16,
   "id": "1c28a204",
   "metadata": {},
   "outputs": [
    {
     "data": {
      "text/plain": [
       "[1, 3, 2, 4]"
      ]
     },
     "execution_count": 16,
     "metadata": {},
     "output_type": "execute_result"
    }
   ],
   "source": [
    "a"
   ]
  },
  {
   "cell_type": "code",
   "execution_count": 17,
   "id": "e74ff845",
   "metadata": {},
   "outputs": [
    {
     "data": {
      "text/plain": [
       "<list_reverseiterator at 0x7fee7874e520>"
      ]
     },
     "execution_count": 17,
     "metadata": {},
     "output_type": "execute_result"
    }
   ],
   "source": [
    "reversed(a)"
   ]
  },
  {
   "cell_type": "markdown",
   "id": "587b879f",
   "metadata": {},
   "source": [
    "### Tuples"
   ]
  },
  {
   "cell_type": "code",
   "execution_count": 18,
   "id": "932918b3",
   "metadata": {},
   "outputs": [],
   "source": [
    "# swapping the values of two variables \n",
    "# (values in them should be numbers i.e. integers or floats and not strings)\n",
    "a = 5\n",
    "b = 9\n",
    "\n",
    "temp = a\n",
    "a = b\n",
    "b = temp\n",
    "\n",
    "a = a+b\n",
    "b = a-b\n",
    "a = a-b\n",
    "\n",
    "a = a^b\n",
    "b = a^b\n",
    "a = a^b"
   ]
  },
  {
   "cell_type": "code",
   "execution_count": 19,
   "id": "d50aa40a",
   "metadata": {},
   "outputs": [],
   "source": [
    "def func(*args):\n",
    "    print(args)"
   ]
  },
  {
   "cell_type": "code",
   "execution_count": 20,
   "id": "c13f3c43",
   "metadata": {},
   "outputs": [
    {
     "name": "stdout",
     "output_type": "stream",
     "text": [
      "(1, 2, 3, 4)\n"
     ]
    }
   ],
   "source": [
    "func(1,2,3,4)\n",
    "# Once a function is called, these arguments will never change and stay intact throughout\n",
    "# the execution of the function, hence python uses tuple to crete this packed form.\n",
    "# We never need to modify these arguments, these arguments are given to us by the user\n",
    "# whenever the function is called, hence we never want to change these arguments and we use tuples."
   ]
  },
  {
   "cell_type": "code",
   "execution_count": 21,
   "id": "31ead0d5",
   "metadata": {},
   "outputs": [],
   "source": [
    "# another way of creating tuple - comma separated values\n",
    "a = 1,2"
   ]
  },
  {
   "cell_type": "code",
   "execution_count": 22,
   "id": "72da9ee6",
   "metadata": {},
   "outputs": [
    {
     "data": {
      "text/plain": [
       "tuple"
      ]
     },
     "execution_count": 22,
     "metadata": {},
     "output_type": "execute_result"
    }
   ],
   "source": [
    "type(a)"
   ]
  },
  {
   "cell_type": "code",
   "execution_count": 23,
   "id": "8ce21f52",
   "metadata": {},
   "outputs": [],
   "source": [
    "# tuples can be used on left side of assignement operator as well.\n",
    "# number of variables / length of tuple on the left side of the assignement operator\n",
    "# should always be equal to number of items on the right side of the assignement operator.\n",
    "c, d = a\n",
    "# python unpacks a and assigns the values to the left side of assignement operator (c and d)."
   ]
  },
  {
   "cell_type": "code",
   "execution_count": 24,
   "id": "82a1c323",
   "metadata": {},
   "outputs": [
    {
     "data": {
      "text/plain": [
       "1"
      ]
     },
     "execution_count": 24,
     "metadata": {},
     "output_type": "execute_result"
    }
   ],
   "source": [
    "c"
   ]
  },
  {
   "cell_type": "code",
   "execution_count": 25,
   "id": "7da3a0c4",
   "metadata": {},
   "outputs": [
    {
     "data": {
      "text/plain": [
       "2"
      ]
     },
     "execution_count": 25,
     "metadata": {},
     "output_type": "execute_result"
    }
   ],
   "source": [
    "d"
   ]
  },
  {
   "cell_type": "code",
   "execution_count": 26,
   "id": "8146fc5e",
   "metadata": {},
   "outputs": [],
   "source": [
    "# swapping values using tuple\n",
    "a = 5\n",
    "b = 9\n",
    "(a,b) = (b,a)"
   ]
  },
  {
   "cell_type": "code",
   "execution_count": 27,
   "id": "6f4a7193",
   "metadata": {},
   "outputs": [
    {
     "name": "stdout",
     "output_type": "stream",
     "text": [
      "9 5\n"
     ]
    }
   ],
   "source": [
    "print(a, b)"
   ]
  },
  {
   "cell_type": "code",
   "execution_count": 28,
   "id": "49b041ec",
   "metadata": {},
   "outputs": [
    {
     "data": {
      "text/plain": [
       "[1, 2, 3, 4, 5]"
      ]
     },
     "execution_count": 28,
     "metadata": {},
     "output_type": "execute_result"
    }
   ],
   "source": [
    "# coverting a tuple into a list\n",
    "a = (1,2,3,4,5)\n",
    "a = list(a)\n",
    "a\n",
    "# list function takes an iterable as an arguemnent\n",
    "# as tuple is an iterable, hence it converted it to a list"
   ]
  },
  {
   "cell_type": "code",
   "execution_count": 29,
   "id": "02d5282a",
   "metadata": {},
   "outputs": [
    {
     "data": {
      "text/plain": [
       "[0, 1, 2, 3, 4, 5, 6, 7, 8, 9, 10, 11, 12, 13, 14]"
      ]
     },
     "execution_count": 29,
     "metadata": {},
     "output_type": "execute_result"
    }
   ],
   "source": [
    "# another example of iterable is range and it will convert range into a list as well\n",
    "a = list(range(15))\n",
    "a"
   ]
  },
  {
   "cell_type": "code",
   "execution_count": 30,
   "id": "cb0f2013",
   "metadata": {},
   "outputs": [
    {
     "data": {
      "text/plain": [
       "['j', 'a', 't', 'i', 'n']"
      ]
     },
     "execution_count": 30,
     "metadata": {},
     "output_type": "execute_result"
    }
   ],
   "source": [
    "# another example of iterable is string\n",
    "# string will be converted into a list with each of the letters in the string \n",
    "# as elements of the list\n",
    "a = \"jatin\"\n",
    "a = list(a)\n",
    "a"
   ]
  },
  {
   "cell_type": "code",
   "execution_count": 31,
   "id": "987796d8",
   "metadata": {},
   "outputs": [
    {
     "data": {
      "text/plain": [
       "('j', 'a', 't', 'i', 'n')"
      ]
     },
     "execution_count": 31,
     "metadata": {},
     "output_type": "execute_result"
    }
   ],
   "source": [
    "# coverting a list into a tuple\n",
    "a = tuple(a)\n",
    "a\n",
    "# tuple function takes an iterable as an arguemnent and converts it to a tuple"
   ]
  },
  {
   "cell_type": "code",
   "execution_count": 32,
   "id": "95661fe9",
   "metadata": {},
   "outputs": [],
   "source": [
    "# returning multiple values from function using tuple\n",
    "def addSubtract(a,b):\n",
    "    return a+b, a-b       # returning tuple"
   ]
  },
  {
   "cell_type": "code",
   "execution_count": 33,
   "id": "0b7cf9b1",
   "metadata": {},
   "outputs": [],
   "source": [
    "# assigning by tuple destructuring property\n",
    "sum, diff = addSubtract(12,6)"
   ]
  },
  {
   "cell_type": "code",
   "execution_count": 34,
   "id": "3f322627",
   "metadata": {},
   "outputs": [
    {
     "data": {
      "text/plain": [
       "18"
      ]
     },
     "execution_count": 34,
     "metadata": {},
     "output_type": "execute_result"
    }
   ],
   "source": [
    "sum"
   ]
  },
  {
   "cell_type": "code",
   "execution_count": 35,
   "id": "c9329991",
   "metadata": {},
   "outputs": [
    {
     "data": {
      "text/plain": [
       "6"
      ]
     },
     "execution_count": 35,
     "metadata": {},
     "output_type": "execute_result"
    }
   ],
   "source": [
    "diff"
   ]
  },
  {
   "cell_type": "markdown",
   "id": "a76e86bf",
   "metadata": {},
   "source": [
    "### Dictionaries"
   ]
  },
  {
   "cell_type": "code",
   "execution_count": 38,
   "id": "86100b5f",
   "metadata": {},
   "outputs": [],
   "source": [
    "# dictionary is an unordered data structure which stores the data in the form of key-value pair\n",
    "a = {\n",
    "    \"name\": \"jatin\",\n",
    "    \"marks\": 90,\n",
    "    \"subjects\": [\"emg\", \"math\"],\n",
    "    \"friends\": {\n",
    "        \"pulkit\": \"android\"\n",
    "    }\n",
    "}"
   ]
  },
  {
   "cell_type": "code",
   "execution_count": 40,
   "id": "91ca2286",
   "metadata": {},
   "outputs": [
    {
     "data": {
      "text/plain": [
       "'jatin'"
      ]
     },
     "execution_count": 40,
     "metadata": {},
     "output_type": "execute_result"
    }
   ],
   "source": [
    "# to access particular data inside the dictionary, we can access the data using the key\n",
    "a[\"name\"]"
   ]
  },
  {
   "cell_type": "code",
   "execution_count": 41,
   "id": "4f410f78",
   "metadata": {},
   "outputs": [
    {
     "name": "stdout",
     "output_type": "stream",
     "text": [
      "name\n",
      "marks\n",
      "subjects\n",
      "friends\n"
     ]
    }
   ],
   "source": [
    "# dictionary is also iterable\n",
    "# by default iterating on the dictionary returns all the keys in the dictionary\n",
    "for key in a:\n",
    "    print(key)"
   ]
  },
  {
   "cell_type": "markdown",
   "id": "83d87d9c",
   "metadata": {},
   "source": [
    "#### Certain methods that help us out to iterate over a dictionary"
   ]
  },
  {
   "cell_type": "code",
   "execution_count": 42,
   "id": "dfa49fd4",
   "metadata": {},
   "outputs": [
    {
     "name": "stdout",
     "output_type": "stream",
     "text": [
      "('name', 'jatin')\n",
      "('marks', 90)\n",
      "('subjects', ['emg', 'math'])\n",
      "('friends', {'pulkit': 'android'})\n"
     ]
    }
   ],
   "source": [
    "# items method will create a tuple of pairs inside the dictionary\n",
    "# there were four keys in the dictionary, so there are 4 tuples\n",
    "# it creates the tuple of key and value and returned it in every iteration\n",
    "for item in a.items():\n",
    "    print(item)"
   ]
  },
  {
   "cell_type": "code",
   "execution_count": 43,
   "id": "a4e4f06c",
   "metadata": {},
   "outputs": [
    {
     "name": "stdout",
     "output_type": "stream",
     "text": [
      "name => jatin\n",
      "marks => 90\n",
      "subjects => ['emg', 'math']\n",
      "friends => {'pulkit': 'android'}\n"
     ]
    }
   ],
   "source": [
    "# using the item method, generally we iterate over dictionary by destructuring the tuple\n",
    "for key, value in a.items():\n",
    "    print(key, \"=>\", value) "
   ]
  },
  {
   "cell_type": "code",
   "execution_count": 44,
   "id": "bb5c3265",
   "metadata": {},
   "outputs": [
    {
     "name": "stdout",
     "output_type": "stream",
     "text": [
      "name\n",
      "marks\n",
      "subjects\n",
      "friends\n"
     ]
    }
   ],
   "source": [
    "# on iterating over keys method, it returns all the keys in the dictionary\n",
    "for key in a.keys():\n",
    "    print(key)"
   ]
  },
  {
   "cell_type": "code",
   "execution_count": 45,
   "id": "5238477d",
   "metadata": {},
   "outputs": [
    {
     "name": "stdout",
     "output_type": "stream",
     "text": [
      "jatin\n",
      "90\n",
      "['emg', 'math']\n",
      "{'pulkit': 'android'}\n"
     ]
    }
   ],
   "source": [
    "# values method returns all the values inside the dictionary\n",
    "# it ignores the key and just returns all the values that are present inside the dictionary\n",
    "for val in a.values():\n",
    "    print(val)"
   ]
  },
  {
   "cell_type": "code",
   "execution_count": 48,
   "id": "1fc5b1e3",
   "metadata": {},
   "outputs": [
    {
     "data": {
      "text/plain": [
       "'jatin'"
      ]
     },
     "execution_count": 48,
     "metadata": {},
     "output_type": "execute_result"
    }
   ],
   "source": [
    "# get() and clear() are the safe methods\n",
    "# to access data, a.get(\"name\") and a[\"name\"] perform the same task\n",
    "a.get(\"name\")"
   ]
  },
  {
   "cell_type": "code",
   "execution_count": 49,
   "id": "a80b2abd",
   "metadata": {},
   "outputs": [
    {
     "data": {
      "text/plain": [
       "'jatin'"
      ]
     },
     "execution_count": 49,
     "metadata": {},
     "output_type": "execute_result"
    }
   ],
   "source": [
    "# we can always index a dictionary using square brackets and fetch the values\n",
    "a[\"name\"]"
   ]
  },
  {
   "cell_type": "code",
   "execution_count": 50,
   "id": "5e8da827",
   "metadata": {},
   "outputs": [],
   "source": [
    "# if we don't have the key i.e. it doesn't exist in the dictioanry, a[\"name1\"] will give an error\n",
    "# in the case of get method, it returns none and doesn't throw an error\n",
    "# so, get is a safe mathod (it returns none or value)\n",
    "a.get(\"name1\")"
   ]
  },
  {
   "cell_type": "code",
   "execution_count": 51,
   "id": "d87ccba5",
   "metadata": {},
   "outputs": [],
   "source": [
    "# clear method will clear out all the dictionary and we will be left with an empty dictionary\n",
    "a.clear()"
   ]
  },
  {
   "cell_type": "code",
   "execution_count": 52,
   "id": "b109063c",
   "metadata": {},
   "outputs": [
    {
     "data": {
      "text/plain": [
       "{}"
      ]
     },
     "execution_count": 52,
     "metadata": {},
     "output_type": "execute_result"
    }
   ],
   "source": [
    "a"
   ]
  },
  {
   "cell_type": "code",
   "execution_count": 53,
   "id": "eb75bf19",
   "metadata": {},
   "outputs": [],
   "source": [
    "# keys in the dictionary can be any immuatble data structure\n",
    "# mutable data structure (like list) cannot be a key "
   ]
  },
  {
   "cell_type": "markdown",
   "id": "48fe32cf",
   "metadata": {},
   "source": [
    "### Sets"
   ]
  },
  {
   "cell_type": "code",
   "execution_count": 56,
   "id": "3afa6a5c",
   "metadata": {},
   "outputs": [],
   "source": [
    "# it is directly derived from discrete mathematics concept\n",
    "# set is an unordered data structure\n",
    "# set data structure isn't menat to be iterative, there is no way of indexing a particular value\n",
    "# all of what matters in a set is the existence of that particular value in that set\n",
    "# set is just a unique collection of certain items, we cannot access the particular item\n",
    "# to create a set in pyhton, curly braces are used\n",
    "a = {1,2,3,4}"
   ]
  },
  {
   "cell_type": "code",
   "execution_count": 57,
   "id": "cfe738ec",
   "metadata": {},
   "outputs": [
    {
     "data": {
      "text/plain": [
       "set"
      ]
     },
     "execution_count": 57,
     "metadata": {},
     "output_type": "execute_result"
    }
   ],
   "source": [
    "type(a)"
   ]
  },
  {
   "cell_type": "code",
   "execution_count": 58,
   "id": "a2ffb54d",
   "metadata": {},
   "outputs": [
    {
     "data": {
      "text/plain": [
       "dict"
      ]
     },
     "execution_count": 58,
     "metadata": {},
     "output_type": "execute_result"
    }
   ],
   "source": [
    "# as dictionary is a more prior data structure,\n",
    "# so when we use empty curly braces it'll be a dictionary\n",
    "b = {}\n",
    "type(b)"
   ]
  },
  {
   "cell_type": "code",
   "execution_count": 59,
   "id": "3f78e56f",
   "metadata": {},
   "outputs": [
    {
     "data": {
      "text/plain": [
       "set()"
      ]
     },
     "execution_count": 59,
     "metadata": {},
     "output_type": "execute_result"
    }
   ],
   "source": [
    "# so to create an empty set, we use the set() function\n",
    "c = set()\n",
    "c"
   ]
  },
  {
   "cell_type": "code",
   "execution_count": 60,
   "id": "9c212163",
   "metadata": {},
   "outputs": [],
   "source": [
    "a = {1,2,3,4}\n",
    "b = {3,4,5,6}"
   ]
  },
  {
   "cell_type": "code",
   "execution_count": 61,
   "id": "9ba7110c",
   "metadata": {},
   "outputs": [
    {
     "data": {
      "text/plain": [
       "{3, 4}"
      ]
     },
     "execution_count": 61,
     "metadata": {},
     "output_type": "execute_result"
    }
   ],
   "source": [
    "a.intersection(b)   # returns the intersection i.e. common elements of both the sets"
   ]
  },
  {
   "cell_type": "code",
   "execution_count": 62,
   "id": "95c74082",
   "metadata": {},
   "outputs": [
    {
     "data": {
      "text/plain": [
       "{1, 2, 3, 4, 5, 6}"
      ]
     },
     "execution_count": 62,
     "metadata": {},
     "output_type": "execute_result"
    }
   ],
   "source": [
    "a.union(b)   # returns the union i.e. all the elements present in both of the sets"
   ]
  },
  {
   "cell_type": "code",
   "execution_count": 63,
   "id": "fd358185",
   "metadata": {},
   "outputs": [
    {
     "data": {
      "text/plain": [
       "{1, 2}"
      ]
     },
     "execution_count": 63,
     "metadata": {},
     "output_type": "execute_result"
    }
   ],
   "source": [
    "a - b   # returns all the values that are in set 'a' and not in set 'b'"
   ]
  },
  {
   "cell_type": "code",
   "execution_count": 65,
   "id": "bd246643",
   "metadata": {},
   "outputs": [
    {
     "name": "stdout",
     "output_type": "stream",
     "text": [
      "1\n",
      "2\n",
      "3\n",
      "4\n"
     ]
    }
   ],
   "source": [
    "# we cannot index a set, sets are not indexable\n",
    "# so, a[1] will give an error\n",
    "# but we can iterate on a set, set in python are iterable\n",
    "for i in a:\n",
    "    print(i)   # returns all the values present in the set"
   ]
  },
  {
   "cell_type": "code",
   "execution_count": 66,
   "id": "5f55534b",
   "metadata": {},
   "outputs": [],
   "source": [
    "# as per the definition of set, all the values in the set should be unique\n",
    "a = {1,2,3,4,1,2,3,4}"
   ]
  },
  {
   "cell_type": "code",
   "execution_count": 67,
   "id": "64ab2d27",
   "metadata": {},
   "outputs": [
    {
     "data": {
      "text/plain": [
       "{1, 2, 3, 4}"
      ]
     },
     "execution_count": 67,
     "metadata": {},
     "output_type": "execute_result"
    }
   ],
   "source": [
    "# all the duplicate values will be removed and \n",
    "# only the non-duplicate values will be kept in the set\n",
    "# so the length would be 4\n",
    "a"
   ]
  },
  {
   "cell_type": "code",
   "execution_count": 68,
   "id": "c87dd7e2",
   "metadata": {},
   "outputs": [
    {
     "data": {
      "text/plain": [
       "4"
      ]
     },
     "execution_count": 68,
     "metadata": {},
     "output_type": "execute_result"
    }
   ],
   "source": [
    "len(a)"
   ]
  },
  {
   "cell_type": "code",
   "execution_count": 69,
   "id": "43732d80",
   "metadata": {},
   "outputs": [],
   "source": [
    "a = [1,2,1,2,1,1,2,2]"
   ]
  },
  {
   "cell_type": "code",
   "execution_count": 70,
   "id": "ad952139",
   "metadata": {},
   "outputs": [
    {
     "data": {
      "text/plain": [
       "[1, 2]"
      ]
     },
     "execution_count": 70,
     "metadata": {},
     "output_type": "execute_result"
    }
   ],
   "source": [
    "# to deduplicate this list\n",
    "list(set(a))\n",
    "# but this method does not ensure that the location of these elements will be retained"
   ]
  },
  {
   "cell_type": "markdown",
   "id": "d51e6d91",
   "metadata": {},
   "source": [
    "### Comprehension"
   ]
  },
  {
   "cell_type": "code",
   "execution_count": 1,
   "id": "a3076b43",
   "metadata": {},
   "outputs": [],
   "source": [
    "# comprehension is a method of creating data structures in Python\n",
    "# it is a method using which we can create a set, list and dictionary in a single line of Python"
   ]
  },
  {
   "cell_type": "code",
   "execution_count": 2,
   "id": "f3f544ef",
   "metadata": {},
   "outputs": [
    {
     "name": "stdout",
     "output_type": "stream",
     "text": [
      "[0, 1, 4, 9, 16, 25, 36, 49, 64, 81]\n"
     ]
    }
   ],
   "source": [
    "# to create a list of squares up until 10\n",
    "a = []\n",
    "for i in range(10):\n",
    "    a.append(i**2)\n",
    "print(a)"
   ]
  },
  {
   "cell_type": "markdown",
   "id": "c2031b48",
   "metadata": {},
   "source": [
    "##### List Comprehension"
   ]
  },
  {
   "cell_type": "code",
   "execution_count": 4,
   "id": "f460a3e3",
   "metadata": {},
   "outputs": [
    {
     "data": {
      "text/plain": [
       "[0, 1, 4, 9, 16, 25, 36, 49, 64, 81]"
      ]
     },
     "execution_count": 4,
     "metadata": {},
     "output_type": "execute_result"
    }
   ],
   "source": [
    "# syntax\n",
    "# i**2 represents the variable that will be appended in the list\n",
    "# in front of it is the iteration statement\n",
    "# in the end we will get a list of all the squares from 0 to 9\n",
    "[i**2 for i in range(10)]\n",
    "# this is a very common and syntactical sugar of creating list in single line in python"
   ]
  },
  {
   "cell_type": "code",
   "execution_count": 5,
   "id": "f3b2f85d",
   "metadata": {},
   "outputs": [
    {
     "data": {
      "text/plain": [
       "[0, 4, 16, 36, 64]"
      ]
     },
     "execution_count": 5,
     "metadata": {},
     "output_type": "execute_result"
    }
   ],
   "source": [
    "# square of all even numbers from 0 to 9\n",
    "[i**2 for i in range(10) if i%2==0]"
   ]
  },
  {
   "cell_type": "markdown",
   "id": "36a28d72",
   "metadata": {},
   "source": [
    "##### Dictionary Comprehension"
   ]
  },
  {
   "cell_type": "code",
   "execution_count": 6,
   "id": "9e9eb86c",
   "metadata": {},
   "outputs": [
    {
     "data": {
      "text/plain": [
       "{0: 0, 1: 1, 2: 4, 3: 9, 4: 16, 5: 25, 6: 36, 7: 49, 8: 64, 9: 81}"
      ]
     },
     "execution_count": 6,
     "metadata": {},
     "output_type": "execute_result"
    }
   ],
   "source": [
    "# we want to have a dictionary wherein the key is number i & the value is the square of that number\n",
    "# just like we used square brackets for list, we will use curly braces for dictionary\n",
    "# i: i**2 will be inserted in the dictionary\n",
    "{ i: i**2 for i in range(10)}\n",
    "# we will get a dictionary of all the numbers from 0 to 9 where key is the number\n",
    "# and value is the square of that particular number"
   ]
  },
  {
   "cell_type": "code",
   "execution_count": 7,
   "id": "8c6ad1ea",
   "metadata": {},
   "outputs": [
    {
     "data": {
      "text/plain": [
       "{0: 0, 2: 4, 4: 16, 6: 36, 8: 64}"
      ]
     },
     "execution_count": 7,
     "metadata": {},
     "output_type": "execute_result"
    }
   ],
   "source": [
    "{ i: i**2 for i in range(10) if i%2==0 }"
   ]
  },
  {
   "cell_type": "markdown",
   "id": "32b5fb0d",
   "metadata": {},
   "source": [
    "##### Set Comprehension"
   ]
  },
  {
   "cell_type": "code",
   "execution_count": 9,
   "id": "cbee3c34",
   "metadata": {},
   "outputs": [
    {
     "data": {
      "text/plain": [
       "{0, 4, 16, 36, 64}"
      ]
     },
     "execution_count": 9,
     "metadata": {},
     "output_type": "execute_result"
    }
   ],
   "source": [
    "# set of all the squares of even numbers from 0 to 9\n",
    "# we will use curly braces but these curly braces won't be having key-value pairs,\n",
    "# but it will just have the values\n",
    "{i**2 for i in range(10) if i%2==0}"
   ]
  },
  {
   "cell_type": "code",
   "execution_count": 10,
   "id": "4b6f0fe6",
   "metadata": {},
   "outputs": [
    {
     "data": {
      "text/plain": [
       "<generator object <genexpr> at 0x7f96f0050660>"
      ]
     },
     "execution_count": 10,
     "metadata": {},
     "output_type": "execute_result"
    }
   ],
   "source": [
    "# this is not tuple comprehension but a concept of generator expression\n",
    "a = (i**2 for i in range(10))\n",
    "a"
   ]
  },
  {
   "cell_type": "code",
   "execution_count": null,
   "id": "e9e948dd",
   "metadata": {},
   "outputs": [],
   "source": []
  }
 ],
 "metadata": {
  "kernelspec": {
   "display_name": "Python 3 (ipykernel)",
   "language": "python",
   "name": "python3"
  },
  "language_info": {
   "codemirror_mode": {
    "name": "ipython",
    "version": 3
   },
   "file_extension": ".py",
   "mimetype": "text/x-python",
   "name": "python",
   "nbconvert_exporter": "python",
   "pygments_lexer": "ipython3",
   "version": "3.8.9"
  }
 },
 "nbformat": 4,
 "nbformat_minor": 5
}
